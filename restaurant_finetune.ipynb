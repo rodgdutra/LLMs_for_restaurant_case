{
  "cells": [
    {
      "cell_type": "markdown",
      "metadata": {
        "id": "view-in-github",
        "colab_type": "text"
      },
      "source": [
        "<a href=\"https://colab.research.google.com/github/rodgdutra/LLMs_for_restaurant_case/blob/main/restaurant_finetune.ipynb\" target=\"_parent\"><img src=\"https://colab.research.google.com/assets/colab-badge.svg\" alt=\"Open In Colab\"/></a>"
      ]
    },
    {
      "cell_type": "markdown",
      "metadata": {
        "id": "s3943xNvCCPn"
      },
      "source": [
        "# **Leveraging LoRA Fine-Tuning for Burger Bliss: A Case Study**\n",
        "\n",
        "## **Introduction**\n",
        "\n",
        "In the rapidly evolving world of AI, businesses are increasingly turning to large language models (LLMs) to enhance customer interactions. While Retrieval-Augmented Generation (RAG) is a powerful technique, it often falls short when deep domain-specific knowledge is required. This is where fine-tuning becomes invaluable. By fine-tuning an LLM with **Low-Rank Adaptation (LoRA)**, we can create a model that not only retrieves relevant information but also understands the intricacies of a specific domain, such as the unique offerings of a restaurant like **Burger Bliss**.\n",
        "\n",
        "LoRA fine-tuning offers a lightweight and efficient way to adapt LLMs, enabling them to deliver highly relevant and context-aware responses. Unlike relying solely on RAG, which depends on external knowledge sources, LoRA fine-tuning allows the model to internalize and personalize the knowledge, resulting in a more coherent and contextually accurate interaction with users.\n",
        "\n",
        "---\n",
        "\n",
        "## **Notebook Outline**\n",
        "\n",
        "### 1. **Process the Menu**\n",
        "- **Import PDF**: We’ll begin by importing the menu PDF, ensuring that the data is accurately captured for processing.\n",
        "- **Extract Text**: Using text extraction techniques, we’ll isolate the relevant content from the PDF.\n",
        "- **Process the Text**: The extracted text will be refined to focus solely on the dishes and drinks offered by Burger Bliss.\n",
        "\n",
        "### 2. **Generate a Small Fine-Tune Test Set**\n",
        "- **Generate Instruction-Based Dataset**: Utilizing the Gemma model, we’ll create an instruction-based dataset tailored to the Burger Bliss menu.\n",
        "- **Create a Prompt Formatter**: A custom prompt formatter will be developed to align with the specific requirements of this case study.\n",
        "- **Generate Queries and Responses**: For each dish, we’ll generate a set of queries and responses that simulate real customer interactions.\n",
        "- **Process Gemma Output**: We’ll extract the context, input, and output from the Gemma-generated data.\n",
        "- **Further Processing**: This data will be further refined to create the prompt text needed for effective fine-tuning.\n",
        "\n",
        "### 3. **Fine-Tune the Model LoRA Style**\n",
        "- **Prepare the LoRA Setup**: We’ll set up the LoRA configuration, optimizing it for our fine-tuning task.\n",
        "- **Prepare the Dataset Splits**: The dataset will be split into training, validation, and test sets to ensure robust model performance.\n",
        "- **Run the Training**: The model will undergo fine-tuning using the LoRA approach.\n",
        "- **Save the Fine-Tuned Weights**: The resulting fine-tuned model weights will be saved for future use.\n",
        "\n",
        "### 4. **Test the Model**\n",
        "- **Merge Weights with the Base Model**: The fine-tuned weights will be merged with the base model to create the final product.\n",
        "- **Build a Testing Prompt Formatter**: A new prompt formatter will be created specifically for testing the model’s performance.\n",
        "- **Test the Model**: We’ll evaluate the model with a variety of queries to ensure it meets the desired level of accuracy and relevance."
      ]
    },
    {
      "cell_type": "markdown",
      "metadata": {
        "id": "hAU-lRu0CCPo"
      },
      "source": [
        "## Requirements and setup"
      ]
    },
    {
      "cell_type": "code",
      "execution_count": 1,
      "metadata": {
        "id": "pzy0dAIICCPo",
        "colab": {
          "base_uri": "https://localhost:8080/"
        },
        "outputId": "c2894191-1240-4b1c-c3a4-4674cfe6f66c"
      },
      "outputs": [
        {
          "output_type": "stream",
          "name": "stdout",
          "text": [
            "[INFO] Running in Google Colab, installing requirements.\n",
            "Requirement already satisfied: torch in /usr/local/lib/python3.10/dist-packages (2.4.1+cu121)\n",
            "Requirement already satisfied: filelock in /usr/local/lib/python3.10/dist-packages (from torch) (3.16.1)\n",
            "Requirement already satisfied: typing-extensions>=4.8.0 in /usr/local/lib/python3.10/dist-packages (from torch) (4.12.2)\n",
            "Requirement already satisfied: sympy in /usr/local/lib/python3.10/dist-packages (from torch) (1.13.3)\n",
            "Requirement already satisfied: networkx in /usr/local/lib/python3.10/dist-packages (from torch) (3.3)\n",
            "Requirement already satisfied: jinja2 in /usr/local/lib/python3.10/dist-packages (from torch) (3.1.4)\n",
            "Requirement already satisfied: fsspec in /usr/local/lib/python3.10/dist-packages (from torch) (2023.10.0)\n",
            "Requirement already satisfied: MarkupSafe>=2.0 in /usr/local/lib/python3.10/dist-packages (from jinja2->torch) (2.1.5)\n",
            "Requirement already satisfied: mpmath<1.4,>=1.1.0 in /usr/local/lib/python3.10/dist-packages (from sympy->torch) (1.3.0)\n",
            "Requirement already satisfied: PyMuPDF in /usr/local/lib/python3.10/dist-packages (1.24.10)\n",
            "Requirement already satisfied: PyMuPDFb==1.24.10 in /usr/local/lib/python3.10/dist-packages (from PyMuPDF) (1.24.10)\n",
            "Requirement already satisfied: tqdm in /usr/local/lib/python3.10/dist-packages (4.66.5)\n",
            "Requirement already satisfied: sentence-transformers in /usr/local/lib/python3.10/dist-packages (3.1.1)\n",
            "Requirement already satisfied: transformers<5.0.0,>=4.38.0 in /usr/local/lib/python3.10/dist-packages (from sentence-transformers) (4.45.0)\n",
            "Requirement already satisfied: tqdm in /usr/local/lib/python3.10/dist-packages (from sentence-transformers) (4.66.5)\n",
            "Requirement already satisfied: torch>=1.11.0 in /usr/local/lib/python3.10/dist-packages (from sentence-transformers) (2.4.1+cu121)\n",
            "Requirement already satisfied: scikit-learn in /usr/local/lib/python3.10/dist-packages (from sentence-transformers) (1.5.2)\n",
            "Requirement already satisfied: scipy in /usr/local/lib/python3.10/dist-packages (from sentence-transformers) (1.13.1)\n",
            "Requirement already satisfied: huggingface-hub>=0.19.3 in /usr/local/lib/python3.10/dist-packages (from sentence-transformers) (0.24.7)\n",
            "Requirement already satisfied: Pillow in /usr/local/lib/python3.10/dist-packages (from sentence-transformers) (10.4.0)\n",
            "Requirement already satisfied: filelock in /usr/local/lib/python3.10/dist-packages (from huggingface-hub>=0.19.3->sentence-transformers) (3.16.1)\n",
            "Requirement already satisfied: fsspec>=2023.5.0 in /usr/local/lib/python3.10/dist-packages (from huggingface-hub>=0.19.3->sentence-transformers) (2023.10.0)\n",
            "Requirement already satisfied: packaging>=20.9 in /usr/local/lib/python3.10/dist-packages (from huggingface-hub>=0.19.3->sentence-transformers) (24.1)\n",
            "Requirement already satisfied: pyyaml>=5.1 in /usr/local/lib/python3.10/dist-packages (from huggingface-hub>=0.19.3->sentence-transformers) (6.0.2)\n",
            "Requirement already satisfied: requests in /usr/local/lib/python3.10/dist-packages (from huggingface-hub>=0.19.3->sentence-transformers) (2.32.3)\n",
            "Requirement already satisfied: typing-extensions>=3.7.4.3 in /usr/local/lib/python3.10/dist-packages (from huggingface-hub>=0.19.3->sentence-transformers) (4.12.2)\n",
            "Requirement already satisfied: sympy in /usr/local/lib/python3.10/dist-packages (from torch>=1.11.0->sentence-transformers) (1.13.3)\n",
            "Requirement already satisfied: networkx in /usr/local/lib/python3.10/dist-packages (from torch>=1.11.0->sentence-transformers) (3.3)\n",
            "Requirement already satisfied: jinja2 in /usr/local/lib/python3.10/dist-packages (from torch>=1.11.0->sentence-transformers) (3.1.4)\n",
            "Requirement already satisfied: numpy>=1.17 in /usr/local/lib/python3.10/dist-packages (from transformers<5.0.0,>=4.38.0->sentence-transformers) (1.26.4)\n",
            "Requirement already satisfied: regex!=2019.12.17 in /usr/local/lib/python3.10/dist-packages (from transformers<5.0.0,>=4.38.0->sentence-transformers) (2024.9.11)\n",
            "Requirement already satisfied: tokenizers<0.21,>=0.20 in /usr/local/lib/python3.10/dist-packages (from transformers<5.0.0,>=4.38.0->sentence-transformers) (0.20.0)\n",
            "Requirement already satisfied: safetensors>=0.4.1 in /usr/local/lib/python3.10/dist-packages (from transformers<5.0.0,>=4.38.0->sentence-transformers) (0.4.5)\n",
            "Requirement already satisfied: joblib>=1.2.0 in /usr/local/lib/python3.10/dist-packages (from scikit-learn->sentence-transformers) (1.4.2)\n",
            "Requirement already satisfied: threadpoolctl>=3.1.0 in /usr/local/lib/python3.10/dist-packages (from scikit-learn->sentence-transformers) (3.5.0)\n",
            "Requirement already satisfied: MarkupSafe>=2.0 in /usr/local/lib/python3.10/dist-packages (from jinja2->torch>=1.11.0->sentence-transformers) (2.1.5)\n",
            "Requirement already satisfied: charset-normalizer<4,>=2 in /usr/local/lib/python3.10/dist-packages (from requests->huggingface-hub>=0.19.3->sentence-transformers) (3.3.2)\n",
            "Requirement already satisfied: idna<4,>=2.5 in /usr/local/lib/python3.10/dist-packages (from requests->huggingface-hub>=0.19.3->sentence-transformers) (3.10)\n",
            "Requirement already satisfied: urllib3<3,>=1.21.1 in /usr/local/lib/python3.10/dist-packages (from requests->huggingface-hub>=0.19.3->sentence-transformers) (2.2.3)\n",
            "Requirement already satisfied: certifi>=2017.4.17 in /usr/local/lib/python3.10/dist-packages (from requests->huggingface-hub>=0.19.3->sentence-transformers) (2024.8.30)\n",
            "Requirement already satisfied: mpmath<1.4,>=1.1.0 in /usr/local/lib/python3.10/dist-packages (from sympy->torch>=1.11.0->sentence-transformers) (1.3.0)\n",
            "Requirement already satisfied: accelerate in /usr/local/lib/python3.10/dist-packages (0.27.1)\n",
            "Requirement already satisfied: numpy>=1.17 in /usr/local/lib/python3.10/dist-packages (from accelerate) (1.26.4)\n",
            "Requirement already satisfied: packaging>=20.0 in /usr/local/lib/python3.10/dist-packages (from accelerate) (24.1)\n",
            "Requirement already satisfied: psutil in /usr/local/lib/python3.10/dist-packages (from accelerate) (5.9.5)\n",
            "Requirement already satisfied: pyyaml in /usr/local/lib/python3.10/dist-packages (from accelerate) (6.0.2)\n",
            "Requirement already satisfied: torch>=1.10.0 in /usr/local/lib/python3.10/dist-packages (from accelerate) (2.4.1+cu121)\n",
            "Requirement already satisfied: huggingface-hub in /usr/local/lib/python3.10/dist-packages (from accelerate) (0.24.7)\n",
            "Requirement already satisfied: safetensors>=0.3.1 in /usr/local/lib/python3.10/dist-packages (from accelerate) (0.4.5)\n",
            "Requirement already satisfied: filelock in /usr/local/lib/python3.10/dist-packages (from torch>=1.10.0->accelerate) (3.16.1)\n",
            "Requirement already satisfied: typing-extensions>=4.8.0 in /usr/local/lib/python3.10/dist-packages (from torch>=1.10.0->accelerate) (4.12.2)\n",
            "Requirement already satisfied: sympy in /usr/local/lib/python3.10/dist-packages (from torch>=1.10.0->accelerate) (1.13.3)\n",
            "Requirement already satisfied: networkx in /usr/local/lib/python3.10/dist-packages (from torch>=1.10.0->accelerate) (3.3)\n",
            "Requirement already satisfied: jinja2 in /usr/local/lib/python3.10/dist-packages (from torch>=1.10.0->accelerate) (3.1.4)\n",
            "Requirement already satisfied: fsspec in /usr/local/lib/python3.10/dist-packages (from torch>=1.10.0->accelerate) (2023.10.0)\n",
            "Requirement already satisfied: requests in /usr/local/lib/python3.10/dist-packages (from huggingface-hub->accelerate) (2.32.3)\n",
            "Requirement already satisfied: tqdm>=4.42.1 in /usr/local/lib/python3.10/dist-packages (from huggingface-hub->accelerate) (4.66.5)\n",
            "Requirement already satisfied: MarkupSafe>=2.0 in /usr/local/lib/python3.10/dist-packages (from jinja2->torch>=1.10.0->accelerate) (2.1.5)\n",
            "Requirement already satisfied: charset-normalizer<4,>=2 in /usr/local/lib/python3.10/dist-packages (from requests->huggingface-hub->accelerate) (3.3.2)\n",
            "Requirement already satisfied: idna<4,>=2.5 in /usr/local/lib/python3.10/dist-packages (from requests->huggingface-hub->accelerate) (3.10)\n",
            "Requirement already satisfied: urllib3<3,>=1.21.1 in /usr/local/lib/python3.10/dist-packages (from requests->huggingface-hub->accelerate) (2.2.3)\n",
            "Requirement already satisfied: certifi>=2017.4.17 in /usr/local/lib/python3.10/dist-packages (from requests->huggingface-hub->accelerate) (2024.8.30)\n",
            "Requirement already satisfied: mpmath<1.4,>=1.1.0 in /usr/local/lib/python3.10/dist-packages (from sympy->torch>=1.10.0->accelerate) (1.3.0)\n",
            "Requirement already satisfied: bitsandbytes in /usr/local/lib/python3.10/dist-packages (0.42.0)\n",
            "Requirement already satisfied: scipy in /usr/local/lib/python3.10/dist-packages (from bitsandbytes) (1.13.1)\n",
            "Requirement already satisfied: numpy<2.3,>=1.22.4 in /usr/local/lib/python3.10/dist-packages (from scipy->bitsandbytes) (1.26.4)\n",
            "Requirement already satisfied: flash-attn in /usr/local/lib/python3.10/dist-packages (2.6.3)\n",
            "Requirement already satisfied: torch in /usr/local/lib/python3.10/dist-packages (from flash-attn) (2.4.1+cu121)\n",
            "Requirement already satisfied: einops in /usr/local/lib/python3.10/dist-packages (from flash-attn) (0.8.0)\n",
            "Requirement already satisfied: filelock in /usr/local/lib/python3.10/dist-packages (from torch->flash-attn) (3.16.1)\n",
            "Requirement already satisfied: typing-extensions>=4.8.0 in /usr/local/lib/python3.10/dist-packages (from torch->flash-attn) (4.12.2)\n",
            "Requirement already satisfied: sympy in /usr/local/lib/python3.10/dist-packages (from torch->flash-attn) (1.13.3)\n",
            "Requirement already satisfied: networkx in /usr/local/lib/python3.10/dist-packages (from torch->flash-attn) (3.3)\n",
            "Requirement already satisfied: jinja2 in /usr/local/lib/python3.10/dist-packages (from torch->flash-attn) (3.1.4)\n",
            "Requirement already satisfied: fsspec in /usr/local/lib/python3.10/dist-packages (from torch->flash-attn) (2023.10.0)\n",
            "Requirement already satisfied: MarkupSafe>=2.0 in /usr/local/lib/python3.10/dist-packages (from jinja2->torch->flash-attn) (2.1.5)\n",
            "Requirement already satisfied: mpmath<1.4,>=1.1.0 in /usr/local/lib/python3.10/dist-packages (from sympy->torch->flash-attn) (1.3.0)\n",
            "Requirement already satisfied: datasets in /usr/local/lib/python3.10/dist-packages (2.17.0)\n",
            "Requirement already satisfied: filelock in /usr/local/lib/python3.10/dist-packages (from datasets) (3.16.1)\n",
            "Requirement already satisfied: numpy>=1.17 in /usr/local/lib/python3.10/dist-packages (from datasets) (1.26.4)\n",
            "Requirement already satisfied: pyarrow>=12.0.0 in /usr/local/lib/python3.10/dist-packages (from datasets) (17.0.0)\n",
            "Requirement already satisfied: pyarrow-hotfix in /usr/local/lib/python3.10/dist-packages (from datasets) (0.6)\n",
            "Requirement already satisfied: dill<0.3.9,>=0.3.0 in /usr/local/lib/python3.10/dist-packages (from datasets) (0.3.8)\n",
            "Requirement already satisfied: pandas in /usr/local/lib/python3.10/dist-packages (from datasets) (2.1.4)\n",
            "Requirement already satisfied: requests>=2.19.0 in /usr/local/lib/python3.10/dist-packages (from datasets) (2.32.3)\n",
            "Requirement already satisfied: tqdm>=4.62.1 in /usr/local/lib/python3.10/dist-packages (from datasets) (4.66.5)\n",
            "Requirement already satisfied: xxhash in /usr/local/lib/python3.10/dist-packages (from datasets) (3.5.0)\n",
            "Requirement already satisfied: multiprocess in /usr/local/lib/python3.10/dist-packages (from datasets) (0.70.16)\n",
            "Requirement already satisfied: fsspec<=2023.10.0,>=2023.1.0 in /usr/local/lib/python3.10/dist-packages (from fsspec[http]<=2023.10.0,>=2023.1.0->datasets) (2023.10.0)\n",
            "Requirement already satisfied: aiohttp in /usr/local/lib/python3.10/dist-packages (from datasets) (3.10.5)\n",
            "Requirement already satisfied: huggingface-hub>=0.19.4 in /usr/local/lib/python3.10/dist-packages (from datasets) (0.24.7)\n",
            "Requirement already satisfied: packaging in /usr/local/lib/python3.10/dist-packages (from datasets) (24.1)\n",
            "Requirement already satisfied: pyyaml>=5.1 in /usr/local/lib/python3.10/dist-packages (from datasets) (6.0.2)\n",
            "Requirement already satisfied: aiohappyeyeballs>=2.3.0 in /usr/local/lib/python3.10/dist-packages (from aiohttp->datasets) (2.4.0)\n",
            "Requirement already satisfied: aiosignal>=1.1.2 in /usr/local/lib/python3.10/dist-packages (from aiohttp->datasets) (1.3.1)\n",
            "Requirement already satisfied: attrs>=17.3.0 in /usr/local/lib/python3.10/dist-packages (from aiohttp->datasets) (24.2.0)\n",
            "Requirement already satisfied: frozenlist>=1.1.1 in /usr/local/lib/python3.10/dist-packages (from aiohttp->datasets) (1.4.1)\n",
            "Requirement already satisfied: multidict<7.0,>=4.5 in /usr/local/lib/python3.10/dist-packages (from aiohttp->datasets) (6.1.0)\n",
            "Requirement already satisfied: yarl<2.0,>=1.0 in /usr/local/lib/python3.10/dist-packages (from aiohttp->datasets) (1.11.1)\n",
            "Requirement already satisfied: async-timeout<5.0,>=4.0 in /usr/local/lib/python3.10/dist-packages (from aiohttp->datasets) (4.0.3)\n",
            "Requirement already satisfied: typing-extensions>=3.7.4.3 in /usr/local/lib/python3.10/dist-packages (from huggingface-hub>=0.19.4->datasets) (4.12.2)\n",
            "Requirement already satisfied: charset-normalizer<4,>=2 in /usr/local/lib/python3.10/dist-packages (from requests>=2.19.0->datasets) (3.3.2)\n",
            "Requirement already satisfied: idna<4,>=2.5 in /usr/local/lib/python3.10/dist-packages (from requests>=2.19.0->datasets) (3.10)\n",
            "Requirement already satisfied: urllib3<3,>=1.21.1 in /usr/local/lib/python3.10/dist-packages (from requests>=2.19.0->datasets) (2.2.3)\n",
            "Requirement already satisfied: certifi>=2017.4.17 in /usr/local/lib/python3.10/dist-packages (from requests>=2.19.0->datasets) (2024.8.30)\n",
            "Requirement already satisfied: python-dateutil>=2.8.2 in /usr/local/lib/python3.10/dist-packages (from pandas->datasets) (2.8.2)\n",
            "Requirement already satisfied: pytz>=2020.1 in /usr/local/lib/python3.10/dist-packages (from pandas->datasets) (2024.2)\n",
            "Requirement already satisfied: tzdata>=2022.1 in /usr/local/lib/python3.10/dist-packages (from pandas->datasets) (2024.1)\n",
            "Requirement already satisfied: six>=1.5 in /usr/local/lib/python3.10/dist-packages (from python-dateutil>=2.8.2->pandas->datasets) (1.16.0)\n",
            "Requirement already satisfied: trl in /usr/local/lib/python3.10/dist-packages (0.11.1)\n",
            "Requirement already satisfied: torch>=1.4.0 in /usr/local/lib/python3.10/dist-packages (from trl) (2.4.1+cu121)\n",
            "Requirement already satisfied: transformers>=4.40.0 in /usr/local/lib/python3.10/dist-packages (from trl) (4.45.0)\n",
            "Requirement already satisfied: accelerate in /usr/local/lib/python3.10/dist-packages (from trl) (0.27.1)\n",
            "Requirement already satisfied: datasets in /usr/local/lib/python3.10/dist-packages (from trl) (2.17.0)\n",
            "Requirement already satisfied: tyro>=0.5.11 in /usr/local/lib/python3.10/dist-packages (from trl) (0.8.11)\n",
            "Requirement already satisfied: numpy>=1.18.2 in /usr/local/lib/python3.10/dist-packages (from trl) (1.26.4)\n",
            "Requirement already satisfied: filelock in /usr/local/lib/python3.10/dist-packages (from torch>=1.4.0->trl) (3.16.1)\n",
            "Requirement already satisfied: typing-extensions>=4.8.0 in /usr/local/lib/python3.10/dist-packages (from torch>=1.4.0->trl) (4.12.2)\n",
            "Requirement already satisfied: sympy in /usr/local/lib/python3.10/dist-packages (from torch>=1.4.0->trl) (1.13.3)\n",
            "Requirement already satisfied: networkx in /usr/local/lib/python3.10/dist-packages (from torch>=1.4.0->trl) (3.3)\n",
            "Requirement already satisfied: jinja2 in /usr/local/lib/python3.10/dist-packages (from torch>=1.4.0->trl) (3.1.4)\n",
            "Requirement already satisfied: fsspec in /usr/local/lib/python3.10/dist-packages (from torch>=1.4.0->trl) (2023.10.0)\n",
            "Requirement already satisfied: huggingface-hub<1.0,>=0.23.2 in /usr/local/lib/python3.10/dist-packages (from transformers>=4.40.0->trl) (0.24.7)\n",
            "Requirement already satisfied: packaging>=20.0 in /usr/local/lib/python3.10/dist-packages (from transformers>=4.40.0->trl) (24.1)\n",
            "Requirement already satisfied: pyyaml>=5.1 in /usr/local/lib/python3.10/dist-packages (from transformers>=4.40.0->trl) (6.0.2)\n",
            "Requirement already satisfied: regex!=2019.12.17 in /usr/local/lib/python3.10/dist-packages (from transformers>=4.40.0->trl) (2024.9.11)\n",
            "Requirement already satisfied: requests in /usr/local/lib/python3.10/dist-packages (from transformers>=4.40.0->trl) (2.32.3)\n",
            "Requirement already satisfied: tokenizers<0.21,>=0.20 in /usr/local/lib/python3.10/dist-packages (from transformers>=4.40.0->trl) (0.20.0)\n",
            "Requirement already satisfied: safetensors>=0.4.1 in /usr/local/lib/python3.10/dist-packages (from transformers>=4.40.0->trl) (0.4.5)\n",
            "Requirement already satisfied: tqdm>=4.27 in /usr/local/lib/python3.10/dist-packages (from transformers>=4.40.0->trl) (4.66.5)\n",
            "Requirement already satisfied: docstring-parser>=0.16 in /usr/local/lib/python3.10/dist-packages (from tyro>=0.5.11->trl) (0.16)\n",
            "Requirement already satisfied: rich>=11.1.0 in /usr/local/lib/python3.10/dist-packages (from tyro>=0.5.11->trl) (13.8.1)\n",
            "Requirement already satisfied: shtab>=1.5.6 in /usr/local/lib/python3.10/dist-packages (from tyro>=0.5.11->trl) (1.7.1)\n",
            "Requirement already satisfied: psutil in /usr/local/lib/python3.10/dist-packages (from accelerate->trl) (5.9.5)\n",
            "Requirement already satisfied: pyarrow>=12.0.0 in /usr/local/lib/python3.10/dist-packages (from datasets->trl) (17.0.0)\n",
            "Requirement already satisfied: pyarrow-hotfix in /usr/local/lib/python3.10/dist-packages (from datasets->trl) (0.6)\n",
            "Requirement already satisfied: dill<0.3.9,>=0.3.0 in /usr/local/lib/python3.10/dist-packages (from datasets->trl) (0.3.8)\n",
            "Requirement already satisfied: pandas in /usr/local/lib/python3.10/dist-packages (from datasets->trl) (2.1.4)\n",
            "Requirement already satisfied: xxhash in /usr/local/lib/python3.10/dist-packages (from datasets->trl) (3.5.0)\n",
            "Requirement already satisfied: multiprocess in /usr/local/lib/python3.10/dist-packages (from datasets->trl) (0.70.16)\n",
            "Requirement already satisfied: aiohttp in /usr/local/lib/python3.10/dist-packages (from datasets->trl) (3.10.5)\n",
            "Requirement already satisfied: aiohappyeyeballs>=2.3.0 in /usr/local/lib/python3.10/dist-packages (from aiohttp->datasets->trl) (2.4.0)\n",
            "Requirement already satisfied: aiosignal>=1.1.2 in /usr/local/lib/python3.10/dist-packages (from aiohttp->datasets->trl) (1.3.1)\n",
            "Requirement already satisfied: attrs>=17.3.0 in /usr/local/lib/python3.10/dist-packages (from aiohttp->datasets->trl) (24.2.0)\n",
            "Requirement already satisfied: frozenlist>=1.1.1 in /usr/local/lib/python3.10/dist-packages (from aiohttp->datasets->trl) (1.4.1)\n",
            "Requirement already satisfied: multidict<7.0,>=4.5 in /usr/local/lib/python3.10/dist-packages (from aiohttp->datasets->trl) (6.1.0)\n",
            "Requirement already satisfied: yarl<2.0,>=1.0 in /usr/local/lib/python3.10/dist-packages (from aiohttp->datasets->trl) (1.11.1)\n",
            "Requirement already satisfied: async-timeout<5.0,>=4.0 in /usr/local/lib/python3.10/dist-packages (from aiohttp->datasets->trl) (4.0.3)\n",
            "Requirement already satisfied: charset-normalizer<4,>=2 in /usr/local/lib/python3.10/dist-packages (from requests->transformers>=4.40.0->trl) (3.3.2)\n",
            "Requirement already satisfied: idna<4,>=2.5 in /usr/local/lib/python3.10/dist-packages (from requests->transformers>=4.40.0->trl) (3.10)\n",
            "Requirement already satisfied: urllib3<3,>=1.21.1 in /usr/local/lib/python3.10/dist-packages (from requests->transformers>=4.40.0->trl) (2.2.3)\n",
            "Requirement already satisfied: certifi>=2017.4.17 in /usr/local/lib/python3.10/dist-packages (from requests->transformers>=4.40.0->trl) (2024.8.30)\n",
            "Requirement already satisfied: markdown-it-py>=2.2.0 in /usr/local/lib/python3.10/dist-packages (from rich>=11.1.0->tyro>=0.5.11->trl) (3.0.0)\n",
            "Requirement already satisfied: pygments<3.0.0,>=2.13.0 in /usr/local/lib/python3.10/dist-packages (from rich>=11.1.0->tyro>=0.5.11->trl) (2.18.0)\n",
            "Requirement already satisfied: MarkupSafe>=2.0 in /usr/local/lib/python3.10/dist-packages (from jinja2->torch>=1.4.0->trl) (2.1.5)\n",
            "Requirement already satisfied: python-dateutil>=2.8.2 in /usr/local/lib/python3.10/dist-packages (from pandas->datasets->trl) (2.8.2)\n",
            "Requirement already satisfied: pytz>=2020.1 in /usr/local/lib/python3.10/dist-packages (from pandas->datasets->trl) (2024.2)\n",
            "Requirement already satisfied: tzdata>=2022.1 in /usr/local/lib/python3.10/dist-packages (from pandas->datasets->trl) (2024.1)\n",
            "Requirement already satisfied: mpmath<1.4,>=1.1.0 in /usr/local/lib/python3.10/dist-packages (from sympy->torch>=1.4.0->trl) (1.3.0)\n",
            "Requirement already satisfied: mdurl~=0.1 in /usr/local/lib/python3.10/dist-packages (from markdown-it-py>=2.2.0->rich>=11.1.0->tyro>=0.5.11->trl) (0.1.2)\n",
            "Requirement already satisfied: six>=1.5 in /usr/local/lib/python3.10/dist-packages (from python-dateutil>=2.8.2->pandas->datasets->trl) (1.16.0)\n"
          ]
        }
      ],
      "source": [
        "import os\n",
        "\n",
        "print(\"[INFO] Running in Google Colab, installing requirements.\")\n",
        "!pip install -U torch # requires torch 2.1.1+ (for efficient sdpa implementation)\n",
        "!pip install PyMuPDF # for reading PDFs with Python\n",
        "!pip install tqdm # for progress bars\n",
        "!pip install sentence-transformers # for embedding models\n",
        "!pip install accelerate # for quantization model loading\n",
        "!pip install bitsandbytes # for quantizing models (less storage space)\n",
        "!pip install flash-attn --no-build-isolation # for faster attention mechanism = faster LLM inference\n",
        "!pip install datasets\n",
        "!pip install --upgrade trl\n",
        "!pip3 install -q -U peft==0.8.2\n",
        "\n"
      ]
    },
    {
      "cell_type": "markdown",
      "metadata": {
        "id": "-LbSjtnZCCPr"
      },
      "source": [
        "# 1. Process the Menu"
      ]
    },
    {
      "cell_type": "markdown",
      "metadata": {
        "id": "17ug1-02CCPr"
      },
      "source": [
        "### Import PDF Document\n",
        "\n",
        "Load the mock up restaurant menu using google drive"
      ]
    },
    {
      "cell_type": "code",
      "source": [
        "from google.colab import drive\n",
        "drive.mount('/content/drive')"
      ],
      "metadata": {
        "colab": {
          "base_uri": "https://localhost:8080/"
        },
        "id": "eKXqwfsI4s1K",
        "outputId": "9f8d2cd5-97e6-46fa-986f-18ff031a02c5"
      },
      "execution_count": 2,
      "outputs": [
        {
          "output_type": "stream",
          "name": "stdout",
          "text": [
            "Drive already mounted at /content/drive; to attempt to forcibly remount, call drive.mount(\"/content/drive\", force_remount=True).\n"
          ]
        }
      ]
    },
    {
      "cell_type": "code",
      "execution_count": 3,
      "metadata": {
        "id": "fkuddnLqCCPs",
        "outputId": "f2074a4e-14c5-4d8f-8a33-ad2b5e90aa36",
        "colab": {
          "base_uri": "https://localhost:8080/"
        }
      },
      "outputs": [
        {
          "output_type": "stream",
          "name": "stdout",
          "text": [
            "File /content/drive/MyDrive/LLM/restaurant_rag//burger_bliss.pdf exists.\n"
          ]
        }
      ],
      "source": [
        "# Download PDF file\n",
        "import os\n",
        "\n",
        "root_project_path = \"/content/drive/MyDrive/LLM/restaurant_rag/\"\n",
        "# Get PDF document\n",
        "pdf_path = f\"{root_project_path}/burger_bliss.pdf\"\n",
        "\n",
        "# Download PDF if it doesn't already exist\n",
        "if not os.path.exists(pdf_path):\n",
        "  print(\"File doesn't exist!\")\n",
        "\n",
        "else:\n",
        "  print(f\"File {pdf_path} exists.\")"
      ]
    },
    {
      "cell_type": "markdown",
      "metadata": {
        "id": "J-yght9xCCPt"
      },
      "source": [
        "With the PDF, now we can start the process to extract the text from it, we can import the pages of our PDF to text by first defining the PDF path and then opening and reading it with PyMuPDF (`import fitz`).\n",
        "\n",
        "First lets visualize the first page of the menu and the output text that we get trhough the fitz library."
      ]
    },
    {
      "cell_type": "code",
      "source": [
        "import fitz\n",
        "import numpy as np\n",
        "# Open PDF and load target page\n",
        "pdf_path = f\"{root_project_path}/burger_bliss.pdf\" # requires PDF to be downloaded\n",
        "doc = fitz.open(pdf_path)\n",
        "page = doc.load_page(0) # number of page (our doc starts page numbers on page 41)\n",
        "\n",
        "# Get the image of the page\n",
        "img = page.get_pixmap(dpi=300)\n",
        "\n",
        "# Optional: save the image\n",
        "#img.save(\"output_filename.png\")\n",
        "doc.close()\n",
        "\n",
        "# Convert the Pixmap to a numpy array\n",
        "img_array = np.frombuffer(img.samples_mv,\n",
        "                          dtype=np.uint8).reshape((img.h, img.w, img.n))\n",
        "\n",
        "# Display the image using Matplotlib\n",
        "import matplotlib.pyplot as plt\n",
        "plt.figure(figsize=(13, 10))\n",
        "plt.imshow(img_array)\n",
        "plt.axis('off') # Turn off axis\n",
        "plt.show()"
      ],
      "metadata": {
        "colab": {
          "base_uri": "https://localhost:8080/",
          "height": 807
        },
        "id": "mWhgxhcJpPFI",
        "outputId": "41ec9691-60cb-4247-9b73-22ebc6e32b6f"
      },
      "execution_count": 4,
      "outputs": [
        {
          "output_type": "display_data",
          "data": {
            "text/plain": [
              "<Figure size 1300x1000 with 1 Axes>"
            ],
            "image/png": "[encoded data removed]"
          },
          "metadata": {}
        }
      ]
    },
    {
      "cell_type": "markdown",
      "source": [
        "Process and visualize the text extracted from the first page"
      ],
      "metadata": {
        "id": "l6xdd7J4prA3"
      }
    },
    {
      "cell_type": "code",
      "execution_count": 5,
      "metadata": {
        "id": "3MiNtTQICCPt",
        "outputId": "43589ba8-2b9f-4ced-c1cc-4c1ff06de477",
        "colab": {
          "referenced_widgets": [
            "f334a2afda8b45adbf2825f85a83f690",
            "491e68cead394ff29c19e6c48ac3f70e",
            "96dcfb059b8d4b56b9e7841c6223c793",
            "9e420a28b5e34db6bb000b4a2062fbfc",
            "b83c5e638e76420a99b06d59a1e79f27",
            "6e0d2cb6e64c4ccbab474ba0d7ef7a80",
            "4ff0d0e5c9bf469c9c8e9d4d114194b4",
            "b33d0e18aaf44163989a41607d83a298",
            "e9a4771ace8a452789ba0262a5da84e0",
            "57b81d66e2bc49a38fae6858aeee848d",
            "34bccd7a4381422daeadf637551cb2fa"
          ],
          "base_uri": "https://localhost:8080/",
          "height": 656
        }
      },
      "outputs": [
        {
          "output_type": "display_data",
          "data": {
            "text/plain": [
              "0it [00:00, ?it/s]"
            ],
            "application/vnd.jupyter.widget-view+json": {
              "version_major": 2,
              "version_minor": 0,
              "model_id": "f334a2afda8b45adbf2825f85a83f690"
            }
          },
          "metadata": {}
        },
        {
          "output_type": "execute_result",
          "data": {
            "text/plain": [
              "{'page_number': 0,\n",
              " 'page_char_count': 1938,\n",
              " 'page_word_count': 273,\n",
              " 'page_sentence_count_raw': 21,\n",
              " 'page_token_count': 484.5,\n",
              " 'text': 'Welcome to Burger Bliss![SEP]Home of Mouthwatering Burgers & Refreshing Drinks[SEP]Where Every Bite is a Taste of Happiness![SEP]Burger Bliss Menu[SEP]1. Classic Bliss Burger - $10.99[SEP]Juicy beef patty, crisp lettuce, ripe tomato, pickles, and our signature sauce on a toasted brioche [SEP]bun. A timeless favorite![SEP]2. Smoky BBQ Bacon Burger - $12.99[SEP]Grilled beef patty topped with smoky BBQ sauce, crispy bacon, cheddar cheese, and onion rings. [SEP]It’s a flavor explosion![SEP]3. Spicy Jalapeño Cheddar Burger - $11.49[SEP]Our spicy beef patty smothered with melted cheddar, fresh jalapeños, and zesty chipotle mayo. [SEP]Perfect for those who like it hot![SEP]4. Mushroom Swiss Melt - $12.49[SEP]Savory beef patty topped with sautéed mushrooms, melted Swiss cheese, and garlic aioli on a [SEP]toasted whole wheat bun. A rich and earthy delight.[SEP]5. Avocado Veggie Burger - $10.49[SEP]A flavorful black bean and quinoa patty topped with creamy avocado, fresh spinach, and tangy [SEP]ranch dressing on a multigrain bun. Healthy never tasted so good![SEP]6. The Big Cheesy (Double Patty) - $14.99[SEP]Two beef patties, four slices of cheese, lettuce, tomato, and our secret sauce. For the ultimate cheese[SEP]lover![SEP]7. Buffalo Chicken Burger - $11.99[SEP]Crispy chicken breast tossed in spicy buffalo sauce, topped with blue cheese crumbles and crunchy [SEP]celery slaw. A spicy twist on a classic![SEP]8. Hawaiian Teriyaki Burger - $12.99[SEP]Grilled beef patty glazed with teriyaki sauce, topped with grilled pineapple, fresh lettuce, and zesty [SEP]mayo. A tropical getaway in every bite![SEP]9. Fried Green Tomato Burger - $11.49[SEP]A Southern twist with a grilled beef patty topped with crispy fried green tomatoes, pimento cheese, [SEP]and spicy mayo. Sweet, tangy, and crunchy![SEP]10. Sweet Potato Fries - $4.99[SEP]Crispy sweet potato fries seasoned to perfection. A deliciously sweet side to any burger![SEP]',\n",
              " 'raw_text': 'Welcome to Burger Bliss!\\nHome of Mouthwatering Burgers & Refreshing Drinks\\nWhere Every Bite is a Taste of Happiness!\\nBurger Bliss Menu\\n1. Classic Bliss Burger - $10.99\\nJuicy beef patty, crisp lettuce, ripe tomato, pickles, and our signature sauce on a toasted brioche \\nbun. A timeless favorite!\\n2. Smoky BBQ Bacon Burger - $12.99\\nGrilled beef patty topped with smoky BBQ sauce, crispy bacon, cheddar cheese, and onion rings. \\nIt’s a flavor explosion!\\n3. Spicy Jalapeño Cheddar Burger - $11.49\\nOur spicy beef patty smothered with melted cheddar, fresh jalapeños, and zesty chipotle mayo. \\nPerfect for those who like it hot!\\n4. Mushroom Swiss Melt - $12.49\\nSavory beef patty topped with sautéed mushrooms, melted Swiss cheese, and garlic aioli on a \\ntoasted whole wheat bun. A rich and earthy delight.\\n5. Avocado Veggie Burger - $10.49\\nA flavorful black bean and quinoa patty topped with creamy avocado, fresh spinach, and tangy \\nranch dressing on a multigrain bun. Healthy never tasted so good!\\n6. The Big Cheesy (Double Patty) - $14.99\\nTwo beef patties, four slices of cheese, lettuce, tomato, and our secret sauce. For the ultimate cheese\\nlover!\\n7. Buffalo Chicken Burger - $11.99\\nCrispy chicken breast tossed in spicy buffalo sauce, topped with blue cheese crumbles and crunchy \\ncelery slaw. A spicy twist on a classic!\\n8. Hawaiian Teriyaki Burger - $12.99\\nGrilled beef patty glazed with teriyaki sauce, topped with grilled pineapple, fresh lettuce, and zesty \\nmayo. A tropical getaway in every bite!\\n9. Fried Green Tomato Burger - $11.49\\nA Southern twist with a grilled beef patty topped with crispy fried green tomatoes, pimento cheese, \\nand spicy mayo. Sweet, tangy, and crunchy!\\n10. Sweet Potato Fries - $4.99\\nCrispy sweet potato fries seasoned to perfection. A deliciously sweet side to any burger!\\n'}"
            ]
          },
          "metadata": {},
          "execution_count": 5
        }
      ],
      "source": [
        "from tqdm.auto import tqdm # for progress bars, requires !pip install tqdm\n",
        "\n",
        "def text_formatter(text: str) -> str:\n",
        "    \"\"\"Performs minor formatting on text.\"\"\"\n",
        "    cleaned_text = text.replace(\"\\n\", \"[SEP]\").strip()\n",
        "\n",
        "    return cleaned_text\n",
        "\n",
        "# Open PDF and get lines/pages\n",
        "# Note: this only focuses on text, rather than images/figures etc\n",
        "def open_and_read_pdf(pdf_path: str) -> list[dict]:\n",
        "    \"\"\"\n",
        "    Opens a PDF file, reads its text content page by page, and collects statistics.\n",
        "\n",
        "    Parameters:\n",
        "        pdf_path (str): The file path to the PDF document to be opened and read.\n",
        "\n",
        "    Returns:\n",
        "        list[dict]: A list of dictionaries, each containing the page number\n",
        "        (adjusted), character count, word count, sentence count, token count, and the extracted text\n",
        "        for each page.\n",
        "    \"\"\"\n",
        "    doc = fitz.open(pdf_path)  # open a document\n",
        "    pages_and_texts = []\n",
        "    for page_number, page in tqdm(enumerate(doc)):  # iterate the document pages\n",
        "        raw_text = page.get_text()  # get plain text encoded as UTF-8\n",
        "        text = text_formatter(raw_text)\n",
        "        pages_and_texts.append({\"page_number\": page_number,\n",
        "                                \"page_char_count\": len(text),\n",
        "                                \"page_word_count\": len(text.split(\" \")),\n",
        "                                \"page_sentence_count_raw\": len(text.split(\". \")),\n",
        "                                \"page_token_count\": len(text) / 4,  # 1 token = ~4 chars, see: https://help.openai.com/en/articles/4936856-what-are-tokens-and-how-to-count-them\n",
        "                                \"text\": text,\n",
        "                                \"raw_text\": raw_text})\n",
        "    return pages_and_texts\n",
        "\n",
        "pages_and_texts = open_and_read_pdf(pdf_path=pdf_path)\n",
        "pages_and_texts[0]"
      ]
    },
    {
      "cell_type": "markdown",
      "source": [
        "To ensure a cleaner output from the RAG system, we'll split the text by dishes and drinks instead of by sentences. This way, we guarantee that each chunk contains a full, cohesive context rather than mixing parts of different dishes or drinks. By chunking the text this way, we ensure that the descriptions and prices for each dish or drink are intact and easy for the RAG system to work with."
      ],
      "metadata": {
        "id": "JNlFqr0Br6xi"
      }
    },
    {
      "cell_type": "markdown",
      "metadata": {
        "id": "JPkkIw9nCCPu"
      },
      "source": [
        "Now lets process each dish separately"
      ]
    },
    {
      "cell_type": "code",
      "source": [
        "import re\n",
        "import pandas as pd\n",
        "def process_by_dish(pages_and_texts):\n",
        "  # Regex pattern to get each dish separately\n",
        "  pattern = r'(\\d+)\\.\\s(.*?)(?=\\n\\d+\\.|$)'\n",
        "\n",
        "  for page in pages_and_texts:\n",
        "    # Find all matches\n",
        "    dishes = re.findall(pattern, page[\"raw_text\"], re.DOTALL)\n",
        "    sentences = [f\"{i[0]}: {i[1]}\" for i in dishes]\n",
        "    sentences = [i.replace(\"\\n\", \" \") for i in sentences]\n",
        "    page[\"sentences\"] = sentences\n",
        "  return pages_and_texts\n",
        "\n",
        "pages_and_texts = process_by_dish(pages_and_texts)"
      ],
      "metadata": {
        "id": "GuSVZcZPBtMV"
      },
      "execution_count": 6,
      "outputs": []
    },
    {
      "cell_type": "code",
      "source": [
        "df = pd.DataFrame(pages_and_texts)\n",
        "dish_df = df.explode('sentences')\n",
        "\n",
        "# Extra processing in the dish_df\n",
        "last_dish = dish_df.iloc[-1][\"sentences\"].split(\"Enjoy your drinks and burger experience at Burger Bliss!\")[0]\n",
        "extra_menu = dish_df.iloc[-1][\"sentences\"].split(\"Enjoy your drinks and burger experience at Burger Bliss!\")[1]\n",
        "dish_df.iloc[-1, dish_df.columns.get_loc('sentences')] = last_dish\n",
        "\n",
        "extra_menu = extra_menu.split(\"•\")[1:]\n",
        "extra_menu[-1] =  \"Guacamole - $1.50\"\n",
        "extra_menu_df = pd.DataFrame({\"sentences\":extra_menu, \"page_number\": [1 for i in extra_menu]})\n",
        "dish_df = pd.concat([dish_df, extra_menu_df])\n",
        "dish_df = dish_df[[\"sentences\", \"page_number\"]]\n"
      ],
      "metadata": {
        "id": "AAbFRVla9o2M"
      },
      "execution_count": 7,
      "outputs": []
    },
    {
      "cell_type": "markdown",
      "metadata": {
        "id": "bVhgTcP0CCQB"
      },
      "source": [
        "\n",
        "\n",
        "### 2. **Generate a Small Fine-Tune Test Set**\n",
        "\n",
        "We begin by importing our Local Language Model (LLM) to generate a custom dataset. While tools like ChatGPT or similar services could be used to build a dataset for us, this notebook aims to explore the entire process of dataset creation. Our goal is to demonstrate how information from a restaurant menu can be transformed into a fine-tuning dataset, enabling our model to acquire specific knowledge about our mock restaurant, Burger Bliss.\n",
        "\n",
        "By the end of the finetuning process, the fine-tuned model will possess a detailed understanding of the menu, enhancing its ability to interact intelligently with customers."
      ]
    },
    {
      "cell_type": "markdown",
      "metadata": {
        "id": "RBEg1dNtCCQB"
      },
      "source": [
        "We will explore the LLMs from Google, specifically focusing on [Gemma](https://huggingface.co/blog/gemma).\n",
        "\n",
        "For our purposes, we will utilize the `gemma-2B`, which is a lightweight model developed by Google.\n",
        "\n",
        "The table below outlines the GPU memory requirements for different versions of the Gemma LLMs, along with varying levels of precision.\n",
        "\n",
        "| Model             | Precision | Min Memory (Bytes) | Min Memory (MB) | Min Memory (GB) | Recommended Memory (GB) | Hugging Face ID |\n",
        "|-------------------|-----------|--------------------|------------------|------------------|-------------------------|------------------|\n",
        "| [Gemma 2B](https://huggingface.co/google/gemma-2b-it)          | 4-bit     | 2,106,749,952      | 2009.15          | 1.96             | ~5.0                    | [`gemma-2b`](https://huggingface.co/google/gemma-2b) or [`gemma-2b-it`](https://huggingface.co/google/gemma-2b-it) for the instruction-tuned version |\n",
        "| Gemma 2B          | Float16   | 5,079,453,696      | 4844.14          | 4.73             | ~8.0                    | Same as above      |\n",
        "| [Gemma 7B](https://huggingface.co/google/gemma-7b-it)          | 4-bit     | 5,515,859,968      | 5260.33          | 5.14             | ~8.0                    | [`gemma-7b`](https://huggingface.co/google/gemma-7b) or [`gemma-7b-it`](https://huggingface.co/google/gemma-7b-it) for the instruction-tuned version |\n",
        "| Gemma 7B          | Float16   | 17,142,470,656     | 16348.33         | 15.97            | ~19                     | Same as above      |"
      ]
    },
    {
      "cell_type": "markdown",
      "metadata": {
        "id": "AbGPVkibCCQC"
      },
      "source": [
        "### Loading an LLM Locally\n",
        "\n",
        "We will use `gemma-7b-it` (suitable for RTX 4090; adjust `model_id` and `use_quantization_config` as needed). For guidance, refer to the `gemma-7b-it` [Hugging Face model card](https://huggingface.co/google/gemma-7b-it) and utilize the [`transformers`](https://huggingface.co/docs/transformers/) library.\n",
        "\n",
        "To load our LLM, we need:\n",
        "\n",
        "1. **Quantization Config (optional)**: Use [`transformers.BitsAndBytesConfig`](https://huggingface.co/docs/transformers/v4.38.2/en/main_classes/quantization#transformers.BitsAndBytesConfig) for 4-bit precision (requires [`bitsandbytes` library](https://github.com/TimDettmers/bitsandbytes)).\n",
        "2. **Model ID**: Reference ID (e.g., `gemma-7b-it`) for the tokenizer and model.\n",
        "3. **Tokenizer**: Convert raw text into tokens using [`transformers.AutoTokenizer.from_pretrained`](https://huggingface.co/docs/transformers/v4.38.2/en/model_doc/auto#transformers.AutoTokenizer).\n",
        "4. **LLM Model**: Load the model with [`transformers.AutoModelForCausalLM.from_pretrained`](https://huggingface.co/docs/transformers/model_doc/auto#transformers.AutoModelForCausalLM.from_pretrained).\n",
        "\n",
        "We will also check for [Flash Attention 2](https://huggingface.co/docs/transformers/perf_infer_gpu_one#flashattention-2) availability to enhance model performance."
      ]
    },
    {
      "cell_type": "code",
      "source": [
        "from google.colab import userdata\n",
        "hf_key = userdata.get(\"HF_TOKEN\")"
      ],
      "metadata": {
        "id": "8edqCQacdkdR"
      },
      "execution_count": 8,
      "outputs": []
    },
    {
      "cell_type": "code",
      "execution_count": 9,
      "metadata": {
        "id": "E6YhKynMCCQC",
        "outputId": "89ebdc73-ce9b-4a5a-907f-1ff96170cd54",
        "colab": {
          "referenced_widgets": [
            "582e1f5c11384da087bc228a03476568",
            "d30be0f582f24bb2863556efc984aff0",
            "b71f8be5b5eb4e94a6b210bdabbc89e9",
            "e7316e12ebf4476db4c80272ac61ebec",
            "ff1a79baa3e9481d9bd02b47a31dccad",
            "95f59ea6cc8b4a6393e40c684c5422b6",
            "cf3f8f21a33b410db54d0894279a68f8",
            "277705833bda4e31b9185e4ac8d2f00a",
            "218cc1d2e2c84d9caf42f9be3ac311cd",
            "79e4352ecfb24e3a84bf2b8ccd390b41",
            "f30f45ba3b924c7aa0faf0f7fae032e3"
          ],
          "base_uri": "https://localhost:8080/",
          "height": 604
        }
      },
      "outputs": [
        {
          "output_type": "stream",
          "name": "stdout",
          "text": [
            "[INFO] Using attention implementation: sdpa\n",
            "[INFO] Using model_id: google/gemma-2b-it\n"
          ]
        },
        {
          "output_type": "stream",
          "name": "stderr",
          "text": [
            "`config.hidden_act` is ignored, you should use `config.hidden_activation` instead.\n",
            "Gemma's activation function will be set to `gelu_pytorch_tanh`. Please, use\n",
            "`config.hidden_activation` if you want to override this behaviour.\n",
            "See https://github.com/huggingface/transformers/pull/29402 for more details.\n"
          ]
        },
        {
          "output_type": "display_data",
          "data": {
            "text/plain": [
              "Loading checkpoint shards:   0%|          | 0/2 [00:00<?, ?it/s]"
            ],
            "application/vnd.jupyter.widget-view+json": {
              "version_major": 2,
              "version_minor": 0,
              "model_id": "582e1f5c11384da087bc228a03476568"
            }
          },
          "metadata": {}
        },
        {
          "output_type": "execute_result",
          "data": {
            "text/plain": [
              "GemmaForCausalLM(\n",
              "  (model): GemmaModel(\n",
              "    (embed_tokens): Embedding(256000, 2048, padding_idx=0)\n",
              "    (layers): ModuleList(\n",
              "      (0-17): 18 x GemmaDecoderLayer(\n",
              "        (self_attn): GemmaSdpaAttention(\n",
              "          (q_proj): Linear(in_features=2048, out_features=2048, bias=False)\n",
              "          (k_proj): Linear(in_features=2048, out_features=256, bias=False)\n",
              "          (v_proj): Linear(in_features=2048, out_features=256, bias=False)\n",
              "          (o_proj): Linear(in_features=2048, out_features=2048, bias=False)\n",
              "          (rotary_emb): GemmaRotaryEmbedding()\n",
              "        )\n",
              "        (mlp): GemmaMLP(\n",
              "          (gate_proj): Linear(in_features=2048, out_features=16384, bias=False)\n",
              "          (up_proj): Linear(in_features=2048, out_features=16384, bias=False)\n",
              "          (down_proj): Linear(in_features=16384, out_features=2048, bias=False)\n",
              "          (act_fn): PytorchGELUTanh()\n",
              "        )\n",
              "        (input_layernorm): GemmaRMSNorm((2048,), eps=1e-06)\n",
              "        (post_attention_layernorm): GemmaRMSNorm((2048,), eps=1e-06)\n",
              "      )\n",
              "    )\n",
              "    (norm): GemmaRMSNorm((2048,), eps=1e-06)\n",
              "  )\n",
              "  (lm_head): Linear(in_features=2048, out_features=256000, bias=False)\n",
              ")"
            ]
          },
          "metadata": {},
          "execution_count": 9
        }
      ],
      "source": [
        "import torch\n",
        "from transformers import AutoTokenizer, AutoModelForCausalLM\n",
        "from transformers.utils import is_flash_attn_2_available\n",
        "\n",
        "# 1. Create quantization config for smaller model loading (optional)\n",
        "# Requires !pip install bitsandbytes accelerate, see: https://github.com/TimDettmers/bitsandbytes, https://huggingface.co/docs/accelerate/\n",
        "# For models that require 4-bit quantization (use this if you have low GPU memory available)\n",
        "from transformers import BitsAndBytesConfig\n",
        "quantization_config = BitsAndBytesConfig(load_in_4bit=True,\n",
        "                                         bnb_4bit_compute_dtype=torch.float16)\n",
        "\n",
        "# Bonus: Setup Flash Attention 2 for faster inference, default to \"sdpa\" or \"scaled dot product attention\" if it's not available\n",
        "# Flash Attention 2 requires NVIDIA GPU compute capability of 8.0 or above, see: https://developer.nvidia.com/cuda-gpus\n",
        "# Requires !pip install flash-attn, see: https://github.com/Dao-AILab/flash-attention\n",
        "if (is_flash_attn_2_available()) and (torch.cuda.get_device_capability(0)[0] >= 8):\n",
        "  attn_implementation = \"flash_attention_2\"\n",
        "else:\n",
        "  attn_implementation = \"sdpa\"\n",
        "print(f\"[INFO] Using attention implementation: {attn_implementation}\")\n",
        "\n",
        "# 2. Pick a model we'd like to use (this will depend on how much GPU memory you have available)\n",
        "model_id = \"google/gemma-2b-it\"\n",
        "print(f\"[INFO] Using model_id: {model_id}\")\n",
        "\n",
        "# 3. Instantiate tokenizer (tokenizer turns text into numbers ready for the model)\n",
        "tokenizer = AutoTokenizer.from_pretrained(pretrained_model_name_or_path=model_id, token=hf_key)\n",
        "\n",
        "# 4. Instantiate the model\n",
        "use_cashed = False\n",
        "if use_cashed:\n",
        "  llm_model = AutoModelForCausalLM.from_pretrained(\"/content/drive/MyDrive/LLM/gemma_2b_vanilla\")\n",
        "else:\n",
        "  llm_model = AutoModelForCausalLM.from_pretrained(pretrained_model_name_or_path=model_id,\n",
        "                                                  torch_dtype=torch.float16, # datatype to use, we want float16\n",
        "                                                  low_cpu_mem_usage=False, # use full memory\n",
        "                                                  attn_implementation=attn_implementation,\n",
        "                                                  token=hf_key) # which attention version to use\n",
        "llm_model.to(\"cuda\")"
      ]
    },
    {
      "cell_type": "code",
      "source": [
        "save_ckpt = False\n",
        "if save_ckpt:\n",
        "  llm_model.save_pretrained(\"/content/drive/MyDrive/LLM/gemma_2b_vanilla\", from_pt=True)"
      ],
      "metadata": {
        "id": "SR_BJqOOgpqF"
      },
      "execution_count": 10,
      "outputs": []
    },
    {
      "cell_type": "markdown",
      "metadata": {
        "id": "tMH034ZcCCQC"
      },
      "source": [
        "We've got an LLM!\n",
        "\n",
        "Let's check it out."
      ]
    },
    {
      "cell_type": "code",
      "execution_count": 11,
      "metadata": {
        "id": "d7eE5hNSCCQD",
        "outputId": "d1954534-5bd4-4547-c611-30ce64a56d40",
        "colab": {
          "base_uri": "https://localhost:8080/"
        }
      },
      "outputs": [
        {
          "output_type": "execute_result",
          "data": {
            "text/plain": [
              "2.506172416"
            ]
          },
          "metadata": {},
          "execution_count": 11
        }
      ],
      "source": [
        "def get_model_num_params(model: torch.nn.Module):\n",
        "    return sum([param.numel() for param in model.parameters()])\n",
        "\n",
        "get_model_num_params(llm_model)/ 1e9"
      ]
    },
    {
      "cell_type": "markdown",
      "metadata": {
        "id": "U1bsnxOCCCQD"
      },
      "source": [
        "It, turns out that Gemma 2B is really Gemma 2.5B."
      ]
    },
    {
      "cell_type": "code",
      "execution_count": 12,
      "metadata": {
        "id": "6VGDdhGOCCQD",
        "outputId": "de20497f-9c85-4cb9-c677-e43567fd29c2",
        "colab": {
          "base_uri": "https://localhost:8080/"
        }
      },
      "outputs": [
        {
          "output_type": "execute_result",
          "data": {
            "text/plain": [
              "{'model_mem_bytes': 5012354048, 'model_mem_mb': 4780.15, 'model_mem_gb': 4.67}"
            ]
          },
          "metadata": {},
          "execution_count": 12
        }
      ],
      "source": [
        "def get_model_mem_size(model: torch.nn.Module):\n",
        "    \"\"\"\n",
        "    Get how much memory a PyTorch model takes up.\n",
        "\n",
        "    See: https://discuss.pytorch.org/t/gpu-memory-that-model-uses/56822\n",
        "    \"\"\"\n",
        "    # Get model parameters and buffer sizes\n",
        "    mem_params = sum([param.nelement() * param.element_size() for param in model.parameters()])\n",
        "    mem_buffers = sum([buf.nelement() * buf.element_size() for buf in model.buffers()])\n",
        "\n",
        "    # Calculate various model sizes\n",
        "    model_mem_bytes = mem_params + mem_buffers # in bytes\n",
        "    model_mem_mb = model_mem_bytes / (1024**2) # in megabytes\n",
        "    model_mem_gb = model_mem_bytes / (1024**3) # in gigabytes\n",
        "\n",
        "    return {\"model_mem_bytes\": model_mem_bytes,\n",
        "            \"model_mem_mb\": round(model_mem_mb, 2),\n",
        "            \"model_mem_gb\": round(model_mem_gb, 2)}\n",
        "\n",
        "get_model_mem_size(llm_model)"
      ]
    },
    {
      "cell_type": "markdown",
      "metadata": {
        "id": "gpkcg8hzCCQD"
      },
      "source": [
        "It appears that this model occupies approximately 5.1GB of GPU memory, with additional space required for the forward pass due to the computations occurring between layers. Therefore, I rounded it up to around 8GB in the table above.\n",
        "\n",
        "Now, let's move on to the exciting part: generating some text!"
      ]
    },
    {
      "cell_type": "markdown",
      "metadata": {
        "id": "ro-VpoyeCCQE"
      },
      "source": [
        "### Generating Text with Our LLM\n",
        "Before the actual finetune process lets try a query that requires information of the burger bliss menu."
      ]
    },
    {
      "cell_type": "code",
      "execution_count": 13,
      "metadata": {
        "id": "rhMlNlrvCCQE",
        "outputId": "0d002f53-0831-4b94-d4a6-c76d0ee4e0bd",
        "colab": {
          "base_uri": "https://localhost:8080/"
        }
      },
      "outputs": [
        {
          "output_type": "stream",
          "name": "stdout",
          "text": [
            "Input text:\n",
            "What is the hamburguer options in the menu?\n",
            "\n",
            "Prompt (formatted):\n",
            "<bos><start_of_turn>user\n",
            "What is the hamburguer options in the menu?<end_of_turn>\n",
            "<start_of_turn>model\n",
            "\n"
          ]
        }
      ],
      "source": [
        "input_text = \"What is the hamburguer options in the menu?\"\n",
        "print(f\"Input text:\\n{input_text}\")\n",
        "\n",
        "# Create prompt template for instruction-tuned model\n",
        "dialogue_template = [\n",
        "    {\"role\": \"user\",\n",
        "     \"content\": input_text}\n",
        "]\n",
        "\n",
        "# Apply the chat template\n",
        "prompt = tokenizer.apply_chat_template(conversation=dialogue_template,\n",
        "                                       tokenize=False, # keep as raw text (not tokenized)\n",
        "                                       add_generation_prompt=True)\n",
        "print(f\"\\nPrompt (formatted):\\n{prompt}\")"
      ]
    },
    {
      "cell_type": "code",
      "execution_count": 14,
      "metadata": {
        "id": "_l6mnftuCCQE",
        "outputId": "f6810fbc-158d-4d46-bd3e-b4ae99f67480",
        "colab": {
          "base_uri": "https://localhost:8080/"
        }
      },
      "outputs": [
        {
          "output_type": "stream",
          "name": "stdout",
          "text": [
            "Model input (tokenized):\n",
            "{'input_ids': tensor([[     2,      2,    106,   1645,    108,   1841,    603,    573,  37630,\n",
            "            525,  44685,   4561,    575,    573,   6901, 235336,    107,    108,\n",
            "            106,   2516,    108]], device='cuda:0'), 'attention_mask': tensor([[1, 1, 1, 1, 1, 1, 1, 1, 1, 1, 1, 1, 1, 1, 1, 1, 1, 1, 1, 1, 1]],\n",
            "       device='cuda:0')}\n",
            "\n"
          ]
        },
        {
          "output_type": "stream",
          "name": "stderr",
          "text": [
            "Starting from v4.46, the `logits` model output will have the same type as the model (except at train time, where it will always be FP32)\n"
          ]
        },
        {
          "output_type": "stream",
          "name": "stdout",
          "text": [
            "Model output (tokens):\n",
            "tensor([     2,      2,    106,   1645,    108,   1841,    603,    573,  37630,\n",
            "           525,  44685,   4561,    575,    573,   6901, 235336,    107,    108,\n",
            "           106,   2516,    108, 235285,   1144,  14321,    577,   3684,   1879,\n",
            "        235290,   1602,   2113, 235269,   5852,    590,   2952,   3658,    476,\n",
            "          6901,    696,    736,   1069, 235265,   1699,    573,   1546,    908,\n",
            "        235290,    511, 235290,   1545,   4561,    578,  31017,    576,    573,\n",
            "        210499,   9336, 235269,   3743,   2701,    573,   6901,    611,    573,\n",
            "          9208, 235303, 235256,   4451,    689,   3127,   4562,   7297, 235265,\n",
            "             1], device='cuda:0')\n",
            "\n",
            "CPU times: user 2.19 s, sys: 124 ms, total: 2.31 s\n",
            "Wall time: 2.81 s\n"
          ]
        }
      ],
      "source": [
        "%%time\n",
        "\n",
        "# Tokenize the input text (turn it into numbers) and send it to GPU\n",
        "input_ids = tokenizer(prompt, return_tensors=\"pt\").to(\"cuda\")\n",
        "print(f\"Model input (tokenized):\\n{input_ids}\\n\")\n",
        "\n",
        "# Generate outputs passed on the tokenized input\n",
        "# See generate docs: https://huggingface.co/docs/transformers/v4.38.2/en/main_classes/text_generation#transformers.GenerationConfig\n",
        "outputs = llm_model.generate(**input_ids,\n",
        "                             max_new_tokens=256) # define the maximum number of new tokens to create\n",
        "print(f\"Model output (tokens):\\n{outputs[0]}\\n\")"
      ]
    },
    {
      "cell_type": "code",
      "execution_count": 15,
      "metadata": {
        "id": "1JwL0pcyCCQE",
        "outputId": "59d38fd6-06b9-445c-8a5c-8877ed26a11c",
        "colab": {
          "base_uri": "https://localhost:8080/"
        }
      },
      "outputs": [
        {
          "output_type": "stream",
          "name": "stdout",
          "text": [
            "Model output (decoded):\n",
            "<bos><bos><start_of_turn>user\n",
            "What is the hamburguer options in the menu?<end_of_turn>\n",
            "<start_of_turn>model\n",
            "I am unable to access real-time information, therefore I cannot provide a menu at this time. For the most up-to-date options and descriptions of the hamburgers offered, please check the menu on the restaurant's website or social media pages.<eos>\n",
            "\n"
          ]
        }
      ],
      "source": [
        "# Decode the output tokens to text\n",
        "outputs_decoded = tokenizer.decode(outputs[0])\n",
        "print(f\"Model output (decoded):\\n{outputs_decoded}\\n\")"
      ]
    },
    {
      "cell_type": "markdown",
      "metadata": {
        "id": "tgT4naJsCCQF"
      },
      "source": [
        "As expected the LLM does not have context to awnser correctly.\n",
        "\n",
        "> **Note:** `\"<bos>\"` and `\"<eos>\"` are special tokens to denote \"beginning of sentence\" and \"end of sentence\" respectively."
      ]
    },
    {
      "cell_type": "code",
      "execution_count": 16,
      "metadata": {
        "id": "P-lXRrcvCCQF",
        "outputId": "b7acfd77-52ff-4a2a-c4a9-8586c4675508",
        "colab": {
          "base_uri": "https://localhost:8080/"
        }
      },
      "outputs": [
        {
          "output_type": "stream",
          "name": "stdout",
          "text": [
            "Input text: What is the hamburguer options in the menu?\n",
            "\n",
            "Output text:\n",
            "I am unable to access real-time information, therefore I cannot provide a menu at this time. For the most up-to-date options and descriptions of the hamburgers offered, please check the menu on the restaurant's website or social media pages.\n"
          ]
        }
      ],
      "source": [
        "print(f\"Input text: {input_text}\\n\")\n",
        "print(f\"Output text:\\n{outputs_decoded.replace(prompt, '').replace('<bos>', '').replace('<eos>', '')}\")"
      ]
    },
    {
      "cell_type": "markdown",
      "metadata": {
        "id": "H0cszWe0CCQF"
      },
      "source": [
        "We've successfully generated text from an LLM running locally, covering the Retrieval (R) and Generation (G) components of RAG. Now, let’s explore the final step: Augmentation.\n",
        "\n",
        "To begin, let's compile a list of queries to test our pipeline"
      ]
    },
    {
      "cell_type": "markdown",
      "metadata": {
        "id": "N5dfnI9yCCQG"
      },
      "source": [
        "### Create a Prompt Formatter\n",
        "In this step, we will develop a custom prompt formatter designed specifically to generate instruction-style queries and responses. This formatter will be used to create the structured data necessary for fine-tuning our model, ensuring that the generated prompts are tailored to the context of our restaurant scenario."
      ]
    },
    {
      "cell_type": "code",
      "execution_count": 17,
      "metadata": {
        "id": "AxeYnd56CCQG"
      },
      "outputs": [],
      "source": [
        "def prompt_formatter(context: str) -> str:\n",
        "    \"\"\"\n",
        "    Augments query with text-based context from context_items.\n",
        "    \"\"\"\n",
        "    # Join context items into one dotted paragraph\n",
        "\n",
        "    # Create a base prompt with examples to help the model\n",
        "    # Note: this is very customizable, I've chosen to use 3 examples of the answer style we'd like.\n",
        "    # We could also write this in a txt file and import it in if we wanted.\n",
        "    base_prompt = \"\"\"Based on the following menu dishes in the user query, create a query in a instruction based format example\n",
        "Always use the information in the context to create the query and the model response.\n",
        "Use the following examples as reference for the ideal answer style.\n",
        "\\nExample 1\n",
        "Base dish: 1. Classic Bliss Burger - $10.99 Juicy beef patty, crisp lettuce, ripe tomato, pickles, and our signature sauce on a toasted brioche bun. A timeless favorite!\n",
        "**Query:**: What's in the Classic Bliss Burger?\n",
        "**Answer:**: The Classic Bliss Burger features a juicy beef patty, crisp lettuce, ripe tomato, pickles, and our signature sauce, all on a toasted brioche bun. It costs $10.99.\n",
        "\\nExample 2:\n",
        "Base dish: 4. Mushroom Swiss Melt - $12.49 Savory beef patty topped with sautéed mushrooms, melted Swiss cheese, and garlic aioli on a toasted whole wheat bun. A rich and earthy delight.\n",
        "**Query**: Does the Mushroom Swiss Melt come with a side?\n",
        "**Answer**: The Mushroom Swiss Melt does not come with a side, but you can add fries or a salad to your order for an additional charge.\n",
        "\\nExample 3:\n",
        "Base dish: 3. Fresh Lemonade - $2.99 Homemade and refreshing, made with real lemons and just the right amount of sweetness.\n",
        "**Query**: Can you tell me more about the Fresh Lemonade?\n",
        "**Answer**: The Fresh Lemonade is a homemade, refreshing drink made with real lemons and balanced sweetness. It’s priced at $2.99.\n",
        "Base dish: 3. Fresh Lemonade - $2.99 Homemade and refreshing, made with real lemons and just the right amount of sweetness.\n",
        "**Query:**: What’s in the Fresh Lemonade? And how much it costs?\n",
        "**Answer:**:Model response: The Fresh Lemonade is homemade and refreshing, made with real lemons and just the right amount of sweetness. It costs $2.99.\n",
        "Now based on the following base dish, create a instruction based format example of query and model response\n",
        "Base dish: {context}\n",
        "Answer:\"\"\"\n",
        "\n",
        "    # Update base prompt with context items and query\n",
        "    base_prompt = base_prompt.format(context=context)\n",
        "\n",
        "    # Create prompt template for instruction-tuned model\n",
        "    dialogue_template = [\n",
        "        {\"role\": \"user\",\n",
        "        \"content\": base_prompt}\n",
        "    ]\n",
        "\n",
        "    # Apply the chat template\n",
        "    prompt = tokenizer.apply_chat_template(conversation=dialogue_template,\n",
        "                                          tokenize=False,\n",
        "                                          add_generation_prompt=True)\n",
        "    return prompt"
      ]
    },
    {
      "cell_type": "markdown",
      "metadata": {
        "id": "C-KoASh2CCQG"
      },
      "source": [
        "Looking good! Let's try our function out."
      ]
    },
    {
      "cell_type": "code",
      "execution_count": 18,
      "metadata": {
        "id": "-09ONHu9CCQH",
        "outputId": "aa901ed4-ccec-44d7-98a7-db755c41d49f",
        "colab": {
          "base_uri": "https://localhost:8080/"
        }
      },
      "outputs": [
        {
          "output_type": "stream",
          "name": "stdout",
          "text": [
            "<bos><start_of_turn>user\n",
            "Based on the following menu dishes in the user query, create a query in a instruction based format example\n",
            "Always use the information in the context to create the query and the model response.\n",
            "Use the following examples as reference for the ideal answer style.\n",
            "\n",
            "Example 1\n",
            "Base dish: 1. Classic Bliss Burger - $10.99 Juicy beef patty, crisp lettuce, ripe tomato, pickles, and our signature sauce on a toasted brioche bun. A timeless favorite!\n",
            "**Query:**: What's in the Classic Bliss Burger?\n",
            "**Answer:**: The Classic Bliss Burger features a juicy beef patty, crisp lettuce, ripe tomato, pickles, and our signature sauce, all on a toasted brioche bun. It costs $10.99.\n",
            "\n",
            "Example 2:\n",
            "Base dish: 4. Mushroom Swiss Melt - $12.49 Savory beef patty topped with sautéed mushrooms, melted Swiss cheese, and garlic aioli on a toasted whole wheat bun. A rich and earthy delight.\n",
            "**Query**: Does the Mushroom Swiss Melt come with a side?\n",
            "**Answer**: The Mushroom Swiss Melt does not come with a side, but you can add fries or a salad to your order for an additional charge.\n",
            "\n",
            "Example 3:\n",
            "Base dish: 3. Fresh Lemonade - $2.99 Homemade and refreshing, made with real lemons and just the right amount of sweetness.\n",
            "**Query**: Can you tell me more about the Fresh Lemonade?\n",
            "**Answer**: The Fresh Lemonade is a homemade, refreshing drink made with real lemons and balanced sweetness. It’s priced at $2.99.\n",
            "Base dish: 3. Fresh Lemonade - $2.99 Homemade and refreshing, made with real lemons and just the right amount of sweetness.\n",
            "**Query:**: What’s in the Fresh Lemonade? And how much it costs?\n",
            "**Answer:**:Model response: The Fresh Lemonade is homemade and refreshing, made with real lemons and just the right amount of sweetness. It costs $2.99.\n",
            "Now based on the following base dish, create a instruction based format example of query and model response\n",
            "Base dish: 1: Classic Bliss Burger - $10.99 Juicy beef patty, crisp lettuce, ripe tomato, pickles, and our signature sauce on a toasted brioche  bun. A timeless favorite!\n",
            "Answer:<end_of_turn>\n",
            "<start_of_turn>model\n",
            "\n"
          ]
        }
      ],
      "source": [
        "# Format prompt with context items\n",
        "prompt = prompt_formatter(context=dish_df.iloc[0][\"sentences\"])\n",
        "print(prompt)"
      ]
    },
    {
      "cell_type": "markdown",
      "metadata": {
        "id": "1jwt3rN2CCQH"
      },
      "source": [
        "Now, let's instantiate the `ask` function, which will serve as our primary method for sending queries to the model and retrieving its responses. This function will utilize the prompt formatter, along with parameters like temperature and other arguments, to fine-tune how the model generates its answers."
      ]
    },
    {
      "cell_type": "code",
      "execution_count": 42,
      "metadata": {
        "id": "CIOAZWdhCCQH"
      },
      "outputs": [],
      "source": [
        "def ask(context,\n",
        "        temperature=0.7,\n",
        "        max_new_tokens=512,\n",
        "        format_answer_text=False,\n",
        "        return_answer_only=True,\n",
        "        llm_model=llm_model,\n",
        "        prompt_formatter=prompt_formatter):\n",
        "    \"\"\"\n",
        "    Takes a query, finds relevant resources/context and generates an answer to the query based on the relevant resources.\n",
        "    \"\"\"\n",
        "\n",
        "    # Format the prompt with context items\n",
        "    prompt = prompt_formatter(context)\n",
        "\n",
        "    # Tokenize the prompt\n",
        "    input_ids = tokenizer(prompt, return_tensors=\"pt\").to(\"cuda\")\n",
        "\n",
        "    # Generate an output of tokens\n",
        "    outputs = llm_model.generate(**input_ids,\n",
        "                                 temperature=temperature,\n",
        "                                 do_sample=True,\n",
        "                                 max_new_tokens=max_new_tokens)\n",
        "\n",
        "    # Turn the output tokens into text\n",
        "    output_text = tokenizer.decode(outputs[0])\n",
        "\n",
        "    if format_answer_text:\n",
        "        # Replace special tokens and unnecessary help message\n",
        "        output_text = output_text.replace(prompt, \"\").replace(\"<bos>\", \"\").replace(\"<eos>\", \"\").replace(\"Sure, here is the answer to the user query:\\n\\n\", \"\")\n",
        "\n",
        "    # Only return the answer without the context items\n",
        "    if return_answer_only:\n",
        "        return output_text\n",
        "\n",
        "    return output_text"
      ]
    },
    {
      "cell_type": "markdown",
      "source": [
        "Testing the instruction based prompt formater"
      ],
      "metadata": {
        "id": "RQUeSttGEEK9"
      }
    },
    {
      "cell_type": "code",
      "execution_count": 20,
      "metadata": {
        "id": "igw84ca2CCQI",
        "outputId": "b649824e-9191-43a9-8847-8e5f9e7bc65a",
        "colab": {
          "base_uri": "https://localhost:8080/"
        }
      },
      "outputs": [
        {
          "output_type": "stream",
          "name": "stdout",
          "text": [
            "Query: 8: Hawaiian Teriyaki Burger - $12.99 Grilled beef patty glazed with teriyaki sauce, topped with grilled pineapple, fresh lettuce, and zesty  mayo. A tropical getaway in every bite!\n",
            "Answer:\n",
            "\n",
            "<bos><bos><start_of_turn>user\n",
            "Based on the following menu dishes in the user query, create a query in a instruction based format example\n",
            "Always use the information in the context to create the query and the model response.\n",
            "Use the following examples as reference for the ideal answer style.\n",
            "\n",
            "Example 1\n",
            "Base dish: 1. Classic Bliss Burger - $10.99 Juicy beef patty, crisp lettuce, ripe tomato, pickles, and our signature sauce on a toasted brioche bun. A timeless favorite!\n",
            "**Query:**: What's in the Classic Bliss Burger?\n",
            "**Answer:**: The Classic Bliss Burger features a juicy beef patty, crisp lettuce, ripe tomato, pickles, and our signature sauce, all on a toasted brioche bun. It costs $10.99.\n",
            "\n",
            "Example 2:\n",
            "Base dish: 4. Mushroom Swiss Melt - $12.49 Savory beef patty topped with sautéed mushrooms, melted Swiss cheese, and garlic aioli on a toasted whole wheat bun. A rich and earthy delight.\n",
            "**Query**: Does the Mushroom Swiss Melt come with a side?\n",
            "**Answer**: The Mushroom Swiss Melt does not come with a side, but you can add fries or a salad to your order for an additional charge.\n",
            "\n",
            "Example 3:\n",
            "Base dish: 3. Fresh Lemonade - $2.99 Homemade and refreshing, made with real lemons and just the right amount of sweetness.\n",
            "**Query**: Can you tell me more about the Fresh Lemonade?\n",
            "**Answer**: The Fresh Lemonade is a homemade, refreshing drink made with real lemons and balanced sweetness. It’s priced at $2.99.\n",
            "Base dish: 3. Fresh Lemonade - $2.99 Homemade and refreshing, made with real lemons and just the right amount of sweetness.\n",
            "**Query:**: What’s in the Fresh Lemonade? And how much it costs?\n",
            "**Answer:**:Model response: The Fresh Lemonade is homemade and refreshing, made with real lemons and just the right amount of sweetness. It costs $2.99.\n",
            "Now based on the following base dish, create a instruction based format example of query and model response\n",
            "Base dish: 8: Hawaiian Teriyaki Burger - $12.99 Grilled beef patty glazed with teriyaki sauce, topped with grilled pineapple, fresh lettuce, and zesty  mayo. A tropical getaway in every bite!\n",
            "Answer:<end_of_turn>\n",
            "<start_of_turn>model\n",
            "**Query:** What's in the Hawaiian Teriyaki Burger?\n",
            "**Answer:**: The Hawaiian Teriyaki Burger features a grilled beef patty glazed with teriyaki sauce, topped with grilled pineapple, fresh lettuce, and zesty mayo, in a tropical getaway in every bite.<eos>\n"
          ]
        }
      ],
      "source": [
        "query = dish_df.iloc[7][\"sentences\"] #random.choice(query_list)\n",
        "print(f\"Query: {query}\")\n",
        "\n",
        "# Answer query with context and return context\n",
        "answer  = ask(query,\n",
        "              temperature=0.9,\n",
        "              max_new_tokens=512,\n",
        "              return_answer_only=False)\n",
        "\n",
        "print(f\"Answer:\\n\")\n",
        "print(answer)"
      ]
    },
    {
      "cell_type": "markdown",
      "source": [
        "\n",
        "### **Generate Queries and Responses**\n",
        "\n",
        "Next, we’ll create the processing functions necessary for breaking down the model’s responses into usable components. Additionally, we’ll develop a helper function to streamline the query generation process, ensuring that our data is well-structured and ready for fine-tuning."
      ],
      "metadata": {
        "id": "isktwSgqEQBM"
      }
    },
    {
      "cell_type": "code",
      "source": [
        "def generate_dataset_data_point(answer):\n",
        "  split_point_1 = \"Now based on the following base dish, create a instruction based format example of query and model response\"\n",
        "  split_point_2 = \"\\n\"\n",
        "\n",
        "  # Split the awnser and return the context, input and output\n",
        "  answer = answer.split(split_point_1)[1]\n",
        "  answer = answer.split(split_point_2)\n",
        "  context = answer[1]\n",
        "  # print(answer)\n",
        "  try:\n",
        "    input  = \" \".join(answer[4].split(\" \")[1:])\n",
        "    output = \" \".join(answer[5].split(\" \")[1:])\n",
        "    if \"**\" in output:\n",
        "      output = output.split(\"**\")[1].replace(\":\", \"\")\n",
        "  except:\n",
        "    input  = np.nan\n",
        "    output = np.nan\n",
        "\n",
        "  return context, input, output"
      ],
      "metadata": {
        "id": "nRqEE3qzmcVu"
      },
      "execution_count": 21,
      "outputs": []
    },
    {
      "cell_type": "code",
      "source": [
        "def generate_dataset(query: str, temperature: float):\n",
        "  # Answer query with context and return context\n",
        "  answer  = ask(query,\n",
        "                temperature=0.9,\n",
        "                max_new_tokens=512,\n",
        "                return_answer_only=False)\n",
        "\n",
        "  return answer"
      ],
      "metadata": {
        "id": "LEM_E9uY0Em0"
      },
      "execution_count": 22,
      "outputs": []
    },
    {
      "cell_type": "markdown",
      "source": [
        "##Generate the Dataset\n",
        "In this step, we will set a range of temperature values to influence the model’s creativity and variability in generating questions for each dish on the menu. The temperature parameter controls the randomness of the model's responses: a lower temperature (e.g., 0.2) leads to more deterministic and focused outputs, while a higher temperature (e.g., 0.8) encourages more diverse and creative responses. By systematically generating questions at various temperature settings, we aim to compile a small dataset that captures different interpretations of the prompts and the formatter itself.\n",
        "\n",
        "At the conclusion of this process, we will have structured data comprising three key components: context (the specific dish used to create the query and response), input (the query itself), and output (the model's response based on the query). This diverse dataset will enhance the fine-tuning of our model, enabling it to understand and engage with customer inquiries more effectively."
      ],
      "metadata": {
        "id": "0ZK0wdbqEzqh"
      }
    },
    {
      "cell_type": "code",
      "source": [
        "from glob import glob\n",
        "generate = False\n",
        "if generate:\n",
        "  for temp in [0.7, 0.75, 0.8, 0.85, 0.9, 0.95, 1]:\n",
        "      dish_df[\"answer\"] = dish_df[\"sentences\"].apply(lambda x: generate_dataset(x, temp))\n",
        "      dish_df.to_csv(f\"{root_project_path}/dish_df_temp_{temp}.csv\")\n",
        "      dish_full_df = pd.concat([pd.read_csv(i) for i in glob(f\"{root_project_path}/dish_df_temp_*\")])\n",
        "      dish_full_df = dish_full_df[[\"sentences\", \"answer\"]]\n",
        "      dish_full_df[[\"context\", \"input\", \"output\"]] = dish_full_df.apply(lambda x: generate_dataset_data_point(x.answer), axis=1, result_type = \"expand\")\n",
        "      dish_full_df = dish_full_df.drop_duplicates()\n",
        "      dish_full_df[['context', 'input', 'output']].to_csv(f\"{root_project_path}dish_df_full.csv\", index=False)\n",
        "else:\n",
        "  dish_df = pd.read_csv(f\"{root_project_path}/dish_df_full.csv\")"
      ],
      "metadata": {
        "id": "fDsYEBmN1cQw"
      },
      "execution_count": 23,
      "outputs": []
    },
    {
      "cell_type": "markdown",
      "source": [
        "##Further Processing of the Dataset\n",
        "In this section, we will refine the dataset to prepare it for input into the LoRA trainer. This involves structuring the data to meet the training algorithm's requirements, enhancing its quality and consistency for a more efficient fine-tuning process."
      ],
      "metadata": {
        "id": "HQS4n_8UF9Mj"
      }
    },
    {
      "cell_type": "code",
      "source": [
        "from datasets import Dataset, load_dataset\n",
        "dataset = load_dataset(\"csv\", data_files=f\"{root_project_path}dish_df_full.csv\")"
      ],
      "metadata": {
        "id": "4tJxm55YqU-s"
      },
      "execution_count": 24,
      "outputs": []
    },
    {
      "cell_type": "code",
      "source": [
        "def generate_prompt(data_point):\n",
        "    prefix_text = 'Depending on the following prompt, the response should be like this.\\\\n\\\\n'\n",
        "    # Samples with additional context into.\n",
        "    input = data_point['input']\n",
        "    output = data_point['output']\n",
        "    text = f\"\"\"<start_of_turn>user {prefix_text} {input}  <end_of_turn>\\\\n<start_of_turn>model{output} <end_of_turn>\"\"\"\n",
        "    return text\n",
        "\n",
        "# add the \"prompt\" column in the dataset\n",
        "text_column = [generate_prompt(data_point) for data_point in dataset['train']]\n",
        "dataset = dataset['train'].add_column(\"prompt_text\", text_column)"
      ],
      "metadata": {
        "id": "JcNNzIJrrDA-"
      },
      "execution_count": 25,
      "outputs": []
    },
    {
      "cell_type": "code",
      "source": [
        "dataset = dataset.map(lambda samples: tokenizer(samples[\"prompt_text\"]), batched=True)"
      ],
      "metadata": {
        "id": "b-OkWS0VuTfA"
      },
      "execution_count": 26,
      "outputs": []
    },
    {
      "cell_type": "code",
      "source": [
        "ds_train=dataset.shuffle(True).select(range(120))\n",
        "ds_val=dataset.shuffle(True).select(range(120,147))"
      ],
      "metadata": {
        "id": "Qcb57NTduCdc"
      },
      "execution_count": 27,
      "outputs": []
    },
    {
      "cell_type": "markdown",
      "source": [
        "# 3. **Fine-Tune the Model LoRA Style**\n",
        "\n",
        "First, we will establish the LoRA configuration that will guide our fine-tuning process. This includes setting various parameters such as QLoRA and BitsAndBytes configurations, along with specifying essential training arguments. Additionally, we will utilize the PeftModel to implement low-rank adapters (LoRA) through the `get_peft_model` utility function and the `prepare_model_for_kbit_training` method from the PEFT library. This setup will optimize our model for efficient and effective fine-tuning."
      ],
      "metadata": {
        "id": "rRxyqqi4qLKE"
      }
    },
    {
      "cell_type": "code",
      "source": [
        "from peft import LoraConfig, get_peft_model\n",
        "lora_config = LoraConfig(\n",
        "    r=64,\n",
        "    lora_alpha=32,\n",
        "    target_modules=['o_proj', 'q_proj', 'up_proj', 'v_proj', 'k_proj', 'down_proj', 'gate_proj'],\n",
        "    lora_dropout=0.05,\n",
        "    bias=\"none\",\n",
        "    task_type=\"CAUSAL_LM\"\n",
        ")\n",
        "llm_model = get_peft_model(llm_model, lora_config)"
      ],
      "metadata": {
        "id": "MAzuVH8ntosO"
      },
      "execution_count": 28,
      "outputs": []
    },
    {
      "cell_type": "code",
      "source": [
        "trainable, total = llm_model.get_nb_trainable_parameters()\n",
        "print(f\"Trainable: {trainable} | total: {total} | Percentage: {trainable/total*100:.4f}%\")"
      ],
      "metadata": {
        "colab": {
          "base_uri": "https://localhost:8080/"
        },
        "id": "dmqPMDWRvYma",
        "outputId": "89ca5935-3cb7-4827-935f-41d321512a41"
      },
      "execution_count": 29,
      "outputs": [
        {
          "output_type": "stream",
          "name": "stdout",
          "text": [
            "Trainable: 78446592 | total: 2584619008 | Percentage: 3.0351%\n"
          ]
        }
      ]
    },
    {
      "cell_type": "markdown",
      "source": [
        "### **Instantiate the SFTTrainer**\n",
        "\n",
        "Next, we will utilize the **SFTTrainer** from the **trl** library to facilitate supervised fine-tuning of our model. This trainer is designed to streamline the fine-tuning process, allowing us to effectively implement the training strategies we’ve configured.\n"
      ],
      "metadata": {
        "id": "Nq5hyfeSHOjd"
      }
    },
    {
      "cell_type": "code",
      "source": [
        "import transformers\n",
        "\n",
        "from trl import SFTTrainer\n",
        "\n",
        "tokenizer.pad_token = tokenizer.eos_token\n",
        "torch.cuda.empty_cache()\n",
        "trainer = SFTTrainer(\n",
        "    model=llm_model,\n",
        "    train_dataset=ds_train,\n",
        "    eval_dataset=ds_val,\n",
        "    dataset_text_field=\"prompt_text\",\n",
        "    peft_config=lora_config,\n",
        "    args=transformers.TrainingArguments(\n",
        "        per_device_train_batch_size=1,\n",
        "        gradient_accumulation_steps=4,\n",
        "        warmup_steps=3,\n",
        "        max_steps=20,\n",
        "        learning_rate=2e-4,\n",
        "        logging_steps=1,\n",
        "        eval_strategy=\"steps\",\n",
        "        output_dir=\"outputs\",\n",
        "        optim=\"paged_adamw_8bit\",\n",
        "        save_strategy=\"epoch\",\n",
        "    ),\n",
        "    data_collator=transformers.DataCollatorForLanguageModeling(tokenizer, mlm=False),\n",
        ")"
      ],
      "metadata": {
        "colab": {
          "base_uri": "https://localhost:8080/"
        },
        "id": "tbfjiQNCwCWM",
        "outputId": "108c6590-a1c1-4f35-e2e4-943c9fb1363b"
      },
      "execution_count": 30,
      "outputs": [
        {
          "output_type": "stream",
          "name": "stderr",
          "text": [
            "/usr/local/lib/python3.10/dist-packages/huggingface_hub/utils/_deprecation.py:100: FutureWarning: Deprecated argument(s) used in '__init__': dataset_text_field. Will not be supported from version '1.0.0'.\n",
            "\n",
            "Deprecated positional argument(s) used in SFTTrainer, please use the SFTConfig to set these arguments instead.\n",
            "  warnings.warn(message, FutureWarning)\n",
            "/usr/local/lib/python3.10/dist-packages/trl/trainer/sft_trainer.py:292: UserWarning: You didn't pass a `max_seq_length` argument to the SFTTrainer, this will default to 1024\n",
            "  warnings.warn(\n",
            "/usr/local/lib/python3.10/dist-packages/trl/trainer/sft_trainer.py:321: UserWarning: You passed a `dataset_text_field` argument to the SFTTrainer, the value you passed will override the one in the `SFTConfig`.\n",
            "  warnings.warn(\n",
            "/usr/local/lib/python3.10/dist-packages/trl/trainer/sft_trainer.py:396: UserWarning: You passed a tokenizer with `padding_side` not equal to `right` to the SFTTrainer. This might lead to some unexpected behaviour due to overflow issues when training a model in half-precision. You might consider adding `tokenizer.padding_side = 'right'` to your code.\n",
            "  warnings.warn(\n",
            "max_steps is given, it will override any value given in num_train_epochs\n"
          ]
        }
      ]
    },
    {
      "cell_type": "markdown",
      "source": [
        "### Begin the finetune!"
      ],
      "metadata": {
        "id": "U3p75GyKHtjD"
      }
    },
    {
      "cell_type": "code",
      "source": [
        "# Start the training process\n",
        "trainer.train()\n",
        "\n"
      ],
      "metadata": {
        "colab": {
          "base_uri": "https://localhost:8080/",
          "height": 737
        },
        "id": "cmBgn6xlwUdV",
        "outputId": "66f14f57-5cf6-4a31-9362-984508ce6ce3"
      },
      "execution_count": 31,
      "outputs": [
        {
          "output_type": "display_data",
          "data": {
            "text/plain": [
              "<IPython.core.display.HTML object>"
            ],
            "text/html": [
              "\n",
              "    <div>\n",
              "      \n",
              "      <progress value='20' max='20' style='width:300px; height:20px; vertical-align: middle;'></progress>\n",
              "      [20/20 00:51, Epoch 0/1]\n",
              "    </div>\n",
              "    <table border=\"1\" class=\"dataframe\">\n",
              "  <thead>\n",
              " <tr style=\"text-align: left;\">\n",
              "      <th>Step</th>\n",
              "      <th>Training Loss</th>\n",
              "      <th>Validation Loss</th>\n",
              "    </tr>\n",
              "  </thead>\n",
              "  <tbody>\n",
              "    <tr>\n",
              "      <td>1</td>\n",
              "      <td>7.017300</td>\n",
              "      <td>7.456842</td>\n",
              "    </tr>\n",
              "    <tr>\n",
              "      <td>2</td>\n",
              "      <td>7.089200</td>\n",
              "      <td>6.653327</td>\n",
              "    </tr>\n",
              "    <tr>\n",
              "      <td>3</td>\n",
              "      <td>6.769100</td>\n",
              "      <td>5.552900</td>\n",
              "    </tr>\n",
              "    <tr>\n",
              "      <td>4</td>\n",
              "      <td>5.830500</td>\n",
              "      <td>4.457561</td>\n",
              "    </tr>\n",
              "    <tr>\n",
              "      <td>5</td>\n",
              "      <td>4.003000</td>\n",
              "      <td>3.826080</td>\n",
              "    </tr>\n",
              "    <tr>\n",
              "      <td>6</td>\n",
              "      <td>3.225800</td>\n",
              "      <td>3.342277</td>\n",
              "    </tr>\n",
              "    <tr>\n",
              "      <td>7</td>\n",
              "      <td>3.179400</td>\n",
              "      <td>2.931893</td>\n",
              "    </tr>\n",
              "    <tr>\n",
              "      <td>8</td>\n",
              "      <td>2.532200</td>\n",
              "      <td>2.590885</td>\n",
              "    </tr>\n",
              "    <tr>\n",
              "      <td>9</td>\n",
              "      <td>2.087100</td>\n",
              "      <td>2.406829</td>\n",
              "    </tr>\n",
              "    <tr>\n",
              "      <td>10</td>\n",
              "      <td>2.144700</td>\n",
              "      <td>2.289011</td>\n",
              "    </tr>\n",
              "    <tr>\n",
              "      <td>11</td>\n",
              "      <td>2.482600</td>\n",
              "      <td>2.193452</td>\n",
              "    </tr>\n",
              "    <tr>\n",
              "      <td>12</td>\n",
              "      <td>2.343200</td>\n",
              "      <td>2.124102</td>\n",
              "    </tr>\n",
              "    <tr>\n",
              "      <td>13</td>\n",
              "      <td>1.753400</td>\n",
              "      <td>2.048835</td>\n",
              "    </tr>\n",
              "    <tr>\n",
              "      <td>14</td>\n",
              "      <td>2.209600</td>\n",
              "      <td>1.980216</td>\n",
              "    </tr>\n",
              "    <tr>\n",
              "      <td>15</td>\n",
              "      <td>1.463800</td>\n",
              "      <td>1.918329</td>\n",
              "    </tr>\n",
              "    <tr>\n",
              "      <td>16</td>\n",
              "      <td>1.416900</td>\n",
              "      <td>1.874137</td>\n",
              "    </tr>\n",
              "    <tr>\n",
              "      <td>17</td>\n",
              "      <td>1.782800</td>\n",
              "      <td>1.843234</td>\n",
              "    </tr>\n",
              "    <tr>\n",
              "      <td>18</td>\n",
              "      <td>1.964300</td>\n",
              "      <td>1.820365</td>\n",
              "    </tr>\n",
              "    <tr>\n",
              "      <td>19</td>\n",
              "      <td>1.830100</td>\n",
              "      <td>1.804111</td>\n",
              "    </tr>\n",
              "    <tr>\n",
              "      <td>20</td>\n",
              "      <td>1.346000</td>\n",
              "      <td>1.794655</td>\n",
              "    </tr>\n",
              "  </tbody>\n",
              "</table><p>"
            ]
          },
          "metadata": {}
        },
        {
          "output_type": "execute_result",
          "data": {
            "text/plain": [
              "TrainOutput(global_step=20, training_loss=3.1235557794570923, metrics={'train_runtime': 52.8115, 'train_samples_per_second': 1.515, 'train_steps_per_second': 0.379, 'total_flos': 62514563444736.0, 'train_loss': 3.1235557794570923, 'epoch': 0.6666666666666666})"
            ]
          },
          "metadata": {},
          "execution_count": 31
        }
      ]
    },
    {
      "cell_type": "markdown",
      "source": [
        "\n",
        "## **Save the Fine-Tuned Weights for Later Use**\n",
        "\n",
        "After the fine-tuning process is complete, we will save the fine-tuned model weights for future use. Storing these weights allows us to easily reload the optimized model for subsequent inference tasks or further training, ensuring that we retain the improvements made during this fine-tuning phase."
      ],
      "metadata": {
        "id": "ghMrf4aUHxn6"
      }
    },
    {
      "cell_type": "code",
      "source": [
        "new_model = \"/content/drive/MyDrive/LLM/gemma-resturant-finetune-test\" #Name of the model you will be pushing to huggingface model hub\n",
        "# Save the fine-tuned model\n",
        "trainer.model.save_pretrained(new_model)"
      ],
      "metadata": {
        "id": "moVVJLlCzkEI"
      },
      "execution_count": 33,
      "outputs": []
    },
    {
      "cell_type": "markdown",
      "source": [
        "# 4. **Test the Model**\n",
        "\n",
        "First, we will merge the trained weights with the base model to create the final version of our model. Next, we will conduct a simple test using the same query that the model previously struggled with: **\"What are the hamburger options on the menu?\"** This will help us evaluate the effectiveness of our fine-tuning efforts and determine if the model has improved in handling specific customer inquiries."
      ],
      "metadata": {
        "id": "pErWviB47TWK"
      }
    },
    {
      "cell_type": "code",
      "source": [
        "from peft import LoraConfig, PeftModel\n",
        "\n",
        "# Merge the model with LoRA weights\n",
        "base_model = AutoModelForCausalLM.from_pretrained(\n",
        "    model_id,\n",
        "    low_cpu_mem_usage=True,\n",
        "    return_dict=True,\n",
        "    torch_dtype=torch.float16,\n",
        "    device_map={\"\": 0},\n",
        ")\n",
        "merged_model= PeftModel.from_pretrained(base_model, new_model)\n",
        "merged_model= merged_model.merge_and_unload()\n",
        "\n",
        "# Save the merged model\n",
        "merged_model.save_pretrained(\"merged_model\",safe_serialization=True)\n",
        "tokenizer.save_pretrained(\"merged_model\")\n",
        "tokenizer.pad_token = tokenizer.eos_token\n",
        "tokenizer.padding_side = \"right\""
      ],
      "metadata": {
        "colab": {
          "base_uri": "https://localhost:8080/",
          "height": 49,
          "referenced_widgets": [
            "31eeb3f9edf0441bb33624e2430bd4e3",
            "fdb7e2c106574ebf876c59197de56342",
            "f036ae475793448ab9156fab9e074ec3",
            "5021626c49514573880af49d6238363b",
            "b8cac1a1c97149e19c6ce7bc30d786e6",
            "3fc11aba32d347e68b000aa478ffd492",
            "d2163fe5e22249deb2d32a905a24db01",
            "6de297453209498ebcad7e4b2caee597",
            "19662590814c4a7db1c09328e73acea1",
            "9f37f204f16a4c61aa69f753c9cbcd76",
            "42a43b7f2bff4307b3436353109ff7b0"
          ]
        },
        "id": "oy2drV1K3Mzn",
        "outputId": "52458775-e718-4876-8c48-095464715160"
      },
      "execution_count": 34,
      "outputs": [
        {
          "output_type": "display_data",
          "data": {
            "text/plain": [
              "Loading checkpoint shards:   0%|          | 0/2 [00:00<?, ?it/s]"
            ],
            "application/vnd.jupyter.widget-view+json": {
              "version_major": 2,
              "version_minor": 0,
              "model_id": "31eeb3f9edf0441bb33624e2430bd4e3"
            }
          },
          "metadata": {}
        }
      ]
    },
    {
      "cell_type": "markdown",
      "source": [
        "## Create Another Prompt Formatter for Testing\n",
        "Our previous prompt formatter was designed to create instruction-based datasets by leveraging the Gemma model. Now, we will develop a new prompt formatter tailored for testing purposes. This formatter will simulate interactions as if the model were an employee of Burger Bliss, allowing us to assess its ability to respond to customer inquiries in a more realistic and conversational manner."
      ],
      "metadata": {
        "id": "JbrHhQzSItfD"
      }
    },
    {
      "cell_type": "code",
      "source": [
        "def prompt_formatter_test(query: str) -> str:\n",
        "    \"\"\"\n",
        "    Augments query with text-based context from context_items.\n",
        "    \"\"\"\n",
        "    # Join context items into one dotted paragraph\n",
        "\n",
        "    # Create a base prompt with examples to help the model\n",
        "    # Note: this is very customizable, I've chosen to use 3 examples of the answer style we'd like.\n",
        "    # We could also write this in a txt file and import it in if we wanted.\n",
        "    base_prompt = \"\"\"Based on your knowledge of burger bliss menu, please answer the query. Consider that you is the waiter of the resturant, allways awnser the query thinking you work as waiter in burger bliss.\n",
        "Use the following examples as reference for the ideal answer style.\n",
        "\\nExample 1:\n",
        "Query:Hi! Do you have any vegetarian options on the menu?\n",
        "Answer:Absolutely! We have our Avocado Veggie Burger, which is made with a black bean and quinoa patty! Would you like to try that?\n",
        "\\nExample 2:\n",
        "Query:What’s the difference between the Classic Bliss Burger and the Big Cheesy?\n",
        "Answer:The Classic Bliss Burger features a single beef patty with fresh lettuce, tomato, and our signature sauce. The Big Cheesy has two beef patties and four slices of cheese for an extra indulgent experience. Both are fantastic, but it depends on how hungry you are!\n",
        "\\nExample 3:\n",
        "Query:Hi there! I’d like to order a Fried Green Tomato Burger and a lemonade, please.\n",
        "Answer:Great choice! Your subtotal comes to $11.49 for the Fried Green Tomato Burger and $2.99 for the lemonade, which totals $14.48. Would you like anything else with that?\n",
        "Now based on the following base dish, create a instruction based format example of query and model response\n",
        "User query: {query}\n",
        "Answer:\"\"\"\n",
        "\n",
        "    # Update base prompt with context items and query\n",
        "    base_prompt = base_prompt.format(query=query)\n",
        "\n",
        "    # Create prompt template for instruction-tuned model\n",
        "    dialogue_template = [\n",
        "        {\"role\": \"user\",\n",
        "        \"content\": base_prompt}\n",
        "    ]\n",
        "\n",
        "    # Apply the chat template\n",
        "    prompt = tokenizer.apply_chat_template(conversation=dialogue_template,\n",
        "                                          tokenize=False,\n",
        "                                          add_generation_prompt=True)\n",
        "    return prompt"
      ],
      "metadata": {
        "id": "K1MLalrD5dwY"
      },
      "execution_count": 40,
      "outputs": []
    },
    {
      "cell_type": "code",
      "source": [
        "# Answer query with context and return context\n",
        "answer  = ask(\"What is the hamburguer options in the menu?\",\n",
        "              temperature=0.8,\n",
        "              max_new_tokens=512,\n",
        "              return_answer_only=False,\n",
        "              llm_model=merged_model,\n",
        "              prompt_formatter=prompt_formatter_test)\n",
        "\n",
        "print(f\"Answer:\\n\")\n",
        "print(answer)"
      ],
      "metadata": {
        "colab": {
          "base_uri": "https://localhost:8080/"
        },
        "id": "TthnG83430tr",
        "outputId": "b2cded45-db97-4fa9-f050-c654532fcb22"
      },
      "execution_count": 49,
      "outputs": [
        {
          "output_type": "stream",
          "name": "stdout",
          "text": [
            "Answer:\n",
            "\n",
            "<bos><bos><start_of_turn>user\n",
            "Based on your knowledge of burger bliss menu, please answer the query. Consider that you is the waiter of the resturant, allways awnser the query thinking you work as waiter in burger bliss.\n",
            "Use the following examples as reference for the ideal answer style.\n",
            "\n",
            "Example 1:\n",
            "Query:Hi! Do you have any vegetarian options on the menu?\n",
            "Answer:Absolutely! We have our Avocado Veggie Burger, which is made with a black bean and quinoa patty! Would you like to try that?\n",
            "\n",
            "Example 2:\n",
            "Query:What’s the difference between the Classic Bliss Burger and the Big Cheesy?\n",
            "Answer:The Classic Bliss Burger features a single beef patty with fresh lettuce, tomato, and our signature sauce. The Big Cheesy has two beef patties and four slices of cheese for an extra indulgent experience. Both are fantastic, but it depends on how hungry you are!\n",
            "\n",
            "Example 3:\n",
            "Query:Hi there! I’d like to order a Fried Green Tomato Burger and a lemonade, please.\n",
            "Answer:Great choice! Your subtotal comes to $11.49 for the Fried Green Tomato Burger and $2.99 for the lemonade, which totals $14.48. Would you like anything else with that?\n",
            "Now based on the following base dish, create a instruction based format example of query and model response\n",
            "User query: What is the hamburguer options in the menu?\n",
            "Answer:<end_of_turn>\n",
            "<start_of_turn>model\n",
            "User query: What is the burger options in the menu?\n",
            "Answer: Our Burger Bliss menu features the Classic Bliss Burger, the Big Cheesy, the Avocado Veggie Burger, the Turkey Burger, and the Chicken Caesar Burger. We also offer a variety of sides and beverages.<eos>\n"
          ]
        }
      ]
    },
    {
      "cell_type": "markdown",
      "source": [
        "Finally, it appears that the model has successfully learned the Burger Bliss menu! Next, we will combine our fine-tuned model with Retrieval-Augmented Generation (RAG) to evaluate the robustness of a complete pipeline for this restaurant use case. This integration will allow us to assess how well the model can provide accurate and contextually relevant responses while leveraging both the internal knowledge gained from fine-tuning and the external information accessed through RAG."
      ],
      "metadata": {
        "id": "JhYD4nBE7-RR"
      }
    }
  ],
  "metadata": {
    "kernelspec": {
      "display_name": "Python 3",
      "name": "python3"
    },
    "language_info": {
      "codemirror_mode": {
        "name": "ipython",
        "version": 3
      },
      "file_extension": ".py",
      "mimetype": "text/x-python",
      "name": "python",
      "nbconvert_exporter": "python",
      "pygments_lexer": "ipython3",
      "version": "3.11.8"
    },
    "colab": {
      "provenance": [],
      "gpuType": "T4",
      "include_colab_link": true
    },
    "widgets": {
      "application/vnd.jupyter.widget-state+json": {
        "f334a2afda8b45adbf2825f85a83f690": {
          "model_module": "@jupyter-widgets/controls",
          "model_name": "HBoxModel",
          "model_module_version": "1.5.0",
          "state": {
            "_dom_classes": [],
            "_model_module": "@jupyter-widgets/controls",
            "_model_module_version": "1.5.0",
            "_model_name": "HBoxModel",
            "_view_count": null,
            "_view_module": "@jupyter-widgets/controls",
            "_view_module_version": "1.5.0",
            "_view_name": "HBoxView",
            "box_style": "",
            "children": [
              "IPY_MODEL_491e68cead394ff29c19e6c48ac3f70e",
              "IPY_MODEL_96dcfb059b8d4b56b9e7841c6223c793",
              "IPY_MODEL_9e420a28b5e34db6bb000b4a2062fbfc"
            ],
            "layout": "IPY_MODEL_b83c5e638e76420a99b06d59a1e79f27"
          }
        },
        "491e68cead394ff29c19e6c48ac3f70e": {
          "model_module": "@jupyter-widgets/controls",
          "model_name": "HTMLModel",
          "model_module_version": "1.5.0",
          "state": {
            "_dom_classes": [],
            "_model_module": "@jupyter-widgets/controls",
            "_model_module_version": "1.5.0",
            "_model_name": "HTMLModel",
            "_view_count": null,
            "_view_module": "@jupyter-widgets/controls",
            "_view_module_version": "1.5.0",
            "_view_name": "HTMLView",
            "description": "",
            "description_tooltip": null,
            "layout": "IPY_MODEL_6e0d2cb6e64c4ccbab474ba0d7ef7a80",
            "placeholder": "​",
            "style": "IPY_MODEL_4ff0d0e5c9bf469c9c8e9d4d114194b4",
            "value": ""
          }
        },
        "96dcfb059b8d4b56b9e7841c6223c793": {
          "model_module": "@jupyter-widgets/controls",
          "model_name": "FloatProgressModel",
          "model_module_version": "1.5.0",
          "state": {
            "_dom_classes": [],
            "_model_module": "@jupyter-widgets/controls",
            "_model_module_version": "1.5.0",
            "_model_name": "FloatProgressModel",
            "_view_count": null,
            "_view_module": "@jupyter-widgets/controls",
            "_view_module_version": "1.5.0",
            "_view_name": "ProgressView",
            "bar_style": "success",
            "description": "",
            "description_tooltip": null,
            "layout": "IPY_MODEL_b33d0e18aaf44163989a41607d83a298",
            "max": 1,
            "min": 0,
            "orientation": "horizontal",
            "style": "IPY_MODEL_e9a4771ace8a452789ba0262a5da84e0",
            "value": 1
          }
        },
        "9e420a28b5e34db6bb000b4a2062fbfc": {
          "model_module": "@jupyter-widgets/controls",
          "model_name": "HTMLModel",
          "model_module_version": "1.5.0",
          "state": {
            "_dom_classes": [],
            "_model_module": "@jupyter-widgets/controls",
            "_model_module_version": "1.5.0",
            "_model_name": "HTMLModel",
            "_view_count": null,
            "_view_module": "@jupyter-widgets/controls",
            "_view_module_version": "1.5.0",
            "_view_name": "HTMLView",
            "description": "",
            "description_tooltip": null,
            "layout": "IPY_MODEL_57b81d66e2bc49a38fae6858aeee848d",
            "placeholder": "​",
            "style": "IPY_MODEL_34bccd7a4381422daeadf637551cb2fa",
            "value": " 2/? [00:00&lt;00:00, 65.23it/s]"
          }
        },
        "b83c5e638e76420a99b06d59a1e79f27": {
          "model_module": "@jupyter-widgets/base",
          "model_name": "LayoutModel",
          "model_module_version": "1.2.0",
          "state": {
            "_model_module": "@jupyter-widgets/base",
            "_model_module_version": "1.2.0",
            "_model_name": "LayoutModel",
            "_view_count": null,
            "_view_module": "@jupyter-widgets/base",
            "_view_module_version": "1.2.0",
            "_view_name": "LayoutView",
            "align_content": null,
            "align_items": null,
            "align_self": null,
            "border": null,
            "bottom": null,
            "display": null,
            "flex": null,
            "flex_flow": null,
            "grid_area": null,
            "grid_auto_columns": null,
            "grid_auto_flow": null,
            "grid_auto_rows": null,
            "grid_column": null,
            "grid_gap": null,
            "grid_row": null,
            "grid_template_areas": null,
            "grid_template_columns": null,
            "grid_template_rows": null,
            "height": null,
            "justify_content": null,
            "justify_items": null,
            "left": null,
            "margin": null,
            "max_height": null,
            "max_width": null,
            "min_height": null,
            "min_width": null,
            "object_fit": null,
            "object_position": null,
            "order": null,
            "overflow": null,
            "overflow_x": null,
            "overflow_y": null,
            "padding": null,
            "right": null,
            "top": null,
            "visibility": null,
            "width": null
          }
        },
        "6e0d2cb6e64c4ccbab474ba0d7ef7a80": {
          "model_module": "@jupyter-widgets/base",
          "model_name": "LayoutModel",
          "model_module_version": "1.2.0",
          "state": {
            "_model_module": "@jupyter-widgets/base",
            "_model_module_version": "1.2.0",
            "_model_name": "LayoutModel",
            "_view_count": null,
            "_view_module": "@jupyter-widgets/base",
            "_view_module_version": "1.2.0",
            "_view_name": "LayoutView",
            "align_content": null,
            "align_items": null,
            "align_self": null,
            "border": null,
            "bottom": null,
            "display": null,
            "flex": null,
            "flex_flow": null,
            "grid_area": null,
            "grid_auto_columns": null,
            "grid_auto_flow": null,
            "grid_auto_rows": null,
            "grid_column": null,
            "grid_gap": null,
            "grid_row": null,
            "grid_template_areas": null,
            "grid_template_columns": null,
            "grid_template_rows": null,
            "height": null,
            "justify_content": null,
            "justify_items": null,
            "left": null,
            "margin": null,
            "max_height": null,
            "max_width": null,
            "min_height": null,
            "min_width": null,
            "object_fit": null,
            "object_position": null,
            "order": null,
            "overflow": null,
            "overflow_x": null,
            "overflow_y": null,
            "padding": null,
            "right": null,
            "top": null,
            "visibility": null,
            "width": null
          }
        },
        "4ff0d0e5c9bf469c9c8e9d4d114194b4": {
          "model_module": "@jupyter-widgets/controls",
          "model_name": "DescriptionStyleModel",
          "model_module_version": "1.5.0",
          "state": {
            "_model_module": "@jupyter-widgets/controls",
            "_model_module_version": "1.5.0",
            "_model_name": "DescriptionStyleModel",
            "_view_count": null,
            "_view_module": "@jupyter-widgets/base",
            "_view_module_version": "1.2.0",
            "_view_name": "StyleView",
            "description_width": ""
          }
        },
        "b33d0e18aaf44163989a41607d83a298": {
          "model_module": "@jupyter-widgets/base",
          "model_name": "LayoutModel",
          "model_module_version": "1.2.0",
          "state": {
            "_model_module": "@jupyter-widgets/base",
            "_model_module_version": "1.2.0",
            "_model_name": "LayoutModel",
            "_view_count": null,
            "_view_module": "@jupyter-widgets/base",
            "_view_module_version": "1.2.0",
            "_view_name": "LayoutView",
            "align_content": null,
            "align_items": null,
            "align_self": null,
            "border": null,
            "bottom": null,
            "display": null,
            "flex": null,
            "flex_flow": null,
            "grid_area": null,
            "grid_auto_columns": null,
            "grid_auto_flow": null,
            "grid_auto_rows": null,
            "grid_column": null,
            "grid_gap": null,
            "grid_row": null,
            "grid_template_areas": null,
            "grid_template_columns": null,
            "grid_template_rows": null,
            "height": null,
            "justify_content": null,
            "justify_items": null,
            "left": null,
            "margin": null,
            "max_height": null,
            "max_width": null,
            "min_height": null,
            "min_width": null,
            "object_fit": null,
            "object_position": null,
            "order": null,
            "overflow": null,
            "overflow_x": null,
            "overflow_y": null,
            "padding": null,
            "right": null,
            "top": null,
            "visibility": null,
            "width": "20px"
          }
        },
        "e9a4771ace8a452789ba0262a5da84e0": {
          "model_module": "@jupyter-widgets/controls",
          "model_name": "ProgressStyleModel",
          "model_module_version": "1.5.0",
          "state": {
            "_model_module": "@jupyter-widgets/controls",
            "_model_module_version": "1.5.0",
            "_model_name": "ProgressStyleModel",
            "_view_count": null,
            "_view_module": "@jupyter-widgets/base",
            "_view_module_version": "1.2.0",
            "_view_name": "StyleView",
            "bar_color": null,
            "description_width": ""
          }
        },
        "57b81d66e2bc49a38fae6858aeee848d": {
          "model_module": "@jupyter-widgets/base",
          "model_name": "LayoutModel",
          "model_module_version": "1.2.0",
          "state": {
            "_model_module": "@jupyter-widgets/base",
            "_model_module_version": "1.2.0",
            "_model_name": "LayoutModel",
            "_view_count": null,
            "_view_module": "@jupyter-widgets/base",
            "_view_module_version": "1.2.0",
            "_view_name": "LayoutView",
            "align_content": null,
            "align_items": null,
            "align_self": null,
            "border": null,
            "bottom": null,
            "display": null,
            "flex": null,
            "flex_flow": null,
            "grid_area": null,
            "grid_auto_columns": null,
            "grid_auto_flow": null,
            "grid_auto_rows": null,
            "grid_column": null,
            "grid_gap": null,
            "grid_row": null,
            "grid_template_areas": null,
            "grid_template_columns": null,
            "grid_template_rows": null,
            "height": null,
            "justify_content": null,
            "justify_items": null,
            "left": null,
            "margin": null,
            "max_height": null,
            "max_width": null,
            "min_height": null,
            "min_width": null,
            "object_fit": null,
            "object_position": null,
            "order": null,
            "overflow": null,
            "overflow_x": null,
            "overflow_y": null,
            "padding": null,
            "right": null,
            "top": null,
            "visibility": null,
            "width": null
          }
        },
        "34bccd7a4381422daeadf637551cb2fa": {
          "model_module": "@jupyter-widgets/controls",
          "model_name": "DescriptionStyleModel",
          "model_module_version": "1.5.0",
          "state": {
            "_model_module": "@jupyter-widgets/controls",
            "_model_module_version": "1.5.0",
            "_model_name": "DescriptionStyleModel",
            "_view_count": null,
            "_view_module": "@jupyter-widgets/base",
            "_view_module_version": "1.2.0",
            "_view_name": "StyleView",
            "description_width": ""
          }
        },
        "582e1f5c11384da087bc228a03476568": {
          "model_module": "@jupyter-widgets/controls",
          "model_name": "HBoxModel",
          "model_module_version": "1.5.0",
          "state": {
            "_dom_classes": [],
            "_model_module": "@jupyter-widgets/controls",
            "_model_module_version": "1.5.0",
            "_model_name": "HBoxModel",
            "_view_count": null,
            "_view_module": "@jupyter-widgets/controls",
            "_view_module_version": "1.5.0",
            "_view_name": "HBoxView",
            "box_style": "",
            "children": [
              "IPY_MODEL_d30be0f582f24bb2863556efc984aff0",
              "IPY_MODEL_b71f8be5b5eb4e94a6b210bdabbc89e9",
              "IPY_MODEL_e7316e12ebf4476db4c80272ac61ebec"
            ],
            "layout": "IPY_MODEL_ff1a79baa3e9481d9bd02b47a31dccad"
          }
        },
        "d30be0f582f24bb2863556efc984aff0": {
          "model_module": "@jupyter-widgets/controls",
          "model_name": "HTMLModel",
          "model_module_version": "1.5.0",
          "state": {
            "_dom_classes": [],
            "_model_module": "@jupyter-widgets/controls",
            "_model_module_version": "1.5.0",
            "_model_name": "HTMLModel",
            "_view_count": null,
            "_view_module": "@jupyter-widgets/controls",
            "_view_module_version": "1.5.0",
            "_view_name": "HTMLView",
            "description": "",
            "description_tooltip": null,
            "layout": "IPY_MODEL_95f59ea6cc8b4a6393e40c684c5422b6",
            "placeholder": "​",
            "style": "IPY_MODEL_cf3f8f21a33b410db54d0894279a68f8",
            "value": "Loading checkpoint shards: 100%"
          }
        },
        "b71f8be5b5eb4e94a6b210bdabbc89e9": {
          "model_module": "@jupyter-widgets/controls",
          "model_name": "FloatProgressModel",
          "model_module_version": "1.5.0",
          "state": {
            "_dom_classes": [],
            "_model_module": "@jupyter-widgets/controls",
            "_model_module_version": "1.5.0",
            "_model_name": "FloatProgressModel",
            "_view_count": null,
            "_view_module": "@jupyter-widgets/controls",
            "_view_module_version": "1.5.0",
            "_view_name": "ProgressView",
            "bar_style": "success",
            "description": "",
            "description_tooltip": null,
            "layout": "IPY_MODEL_277705833bda4e31b9185e4ac8d2f00a",
            "max": 2,
            "min": 0,
            "orientation": "horizontal",
            "style": "IPY_MODEL_218cc1d2e2c84d9caf42f9be3ac311cd",
            "value": 2
          }
        },
        "e7316e12ebf4476db4c80272ac61ebec": {
          "model_module": "@jupyter-widgets/controls",
          "model_name": "HTMLModel",
          "model_module_version": "1.5.0",
          "state": {
            "_dom_classes": [],
            "_model_module": "@jupyter-widgets/controls",
            "_model_module_version": "1.5.0",
            "_model_name": "HTMLModel",
            "_view_count": null,
            "_view_module": "@jupyter-widgets/controls",
            "_view_module_version": "1.5.0",
            "_view_name": "HTMLView",
            "description": "",
            "description_tooltip": null,
            "layout": "IPY_MODEL_79e4352ecfb24e3a84bf2b8ccd390b41",
            "placeholder": "​",
            "style": "IPY_MODEL_f30f45ba3b924c7aa0faf0f7fae032e3",
            "value": " 2/2 [00:25&lt;00:00, 10.69s/it]"
          }
        },
        "ff1a79baa3e9481d9bd02b47a31dccad": {
          "model_module": "@jupyter-widgets/base",
          "model_name": "LayoutModel",
          "model_module_version": "1.2.0",
          "state": {
            "_model_module": "@jupyter-widgets/base",
            "_model_module_version": "1.2.0",
            "_model_name": "LayoutModel",
            "_view_count": null,
            "_view_module": "@jupyter-widgets/base",
            "_view_module_version": "1.2.0",
            "_view_name": "LayoutView",
            "align_content": null,
            "align_items": null,
            "align_self": null,
            "border": null,
            "bottom": null,
            "display": null,
            "flex": null,
            "flex_flow": null,
            "grid_area": null,
            "grid_auto_columns": null,
            "grid_auto_flow": null,
            "grid_auto_rows": null,
            "grid_column": null,
            "grid_gap": null,
            "grid_row": null,
            "grid_template_areas": null,
            "grid_template_columns": null,
            "grid_template_rows": null,
            "height": null,
            "justify_content": null,
            "justify_items": null,
            "left": null,
            "margin": null,
            "max_height": null,
            "max_width": null,
            "min_height": null,
            "min_width": null,
            "object_fit": null,
            "object_position": null,
            "order": null,
            "overflow": null,
            "overflow_x": null,
            "overflow_y": null,
            "padding": null,
            "right": null,
            "top": null,
            "visibility": null,
            "width": null
          }
        },
        "95f59ea6cc8b4a6393e40c684c5422b6": {
          "model_module": "@jupyter-widgets/base",
          "model_name": "LayoutModel",
          "model_module_version": "1.2.0",
          "state": {
            "_model_module": "@jupyter-widgets/base",
            "_model_module_version": "1.2.0",
            "_model_name": "LayoutModel",
            "_view_count": null,
            "_view_module": "@jupyter-widgets/base",
            "_view_module_version": "1.2.0",
            "_view_name": "LayoutView",
            "align_content": null,
            "align_items": null,
            "align_self": null,
            "border": null,
            "bottom": null,
            "display": null,
            "flex": null,
            "flex_flow": null,
            "grid_area": null,
            "grid_auto_columns": null,
            "grid_auto_flow": null,
            "grid_auto_rows": null,
            "grid_column": null,
            "grid_gap": null,
            "grid_row": null,
            "grid_template_areas": null,
            "grid_template_columns": null,
            "grid_template_rows": null,
            "height": null,
            "justify_content": null,
            "justify_items": null,
            "left": null,
            "margin": null,
            "max_height": null,
            "max_width": null,
            "min_height": null,
            "min_width": null,
            "object_fit": null,
            "object_position": null,
            "order": null,
            "overflow": null,
            "overflow_x": null,
            "overflow_y": null,
            "padding": null,
            "right": null,
            "top": null,
            "visibility": null,
            "width": null
          }
        },
        "cf3f8f21a33b410db54d0894279a68f8": {
          "model_module": "@jupyter-widgets/controls",
          "model_name": "DescriptionStyleModel",
          "model_module_version": "1.5.0",
          "state": {
            "_model_module": "@jupyter-widgets/controls",
            "_model_module_version": "1.5.0",
            "_model_name": "DescriptionStyleModel",
            "_view_count": null,
            "_view_module": "@jupyter-widgets/base",
            "_view_module_version": "1.2.0",
            "_view_name": "StyleView",
            "description_width": ""
          }
        },
        "277705833bda4e31b9185e4ac8d2f00a": {
          "model_module": "@jupyter-widgets/base",
          "model_name": "LayoutModel",
          "model_module_version": "1.2.0",
          "state": {
            "_model_module": "@jupyter-widgets/base",
            "_model_module_version": "1.2.0",
            "_model_name": "LayoutModel",
            "_view_count": null,
            "_view_module": "@jupyter-widgets/base",
            "_view_module_version": "1.2.0",
            "_view_name": "LayoutView",
            "align_content": null,
            "align_items": null,
            "align_self": null,
            "border": null,
            "bottom": null,
            "display": null,
            "flex": null,
            "flex_flow": null,
            "grid_area": null,
            "grid_auto_columns": null,
            "grid_auto_flow": null,
            "grid_auto_rows": null,
            "grid_column": null,
            "grid_gap": null,
            "grid_row": null,
            "grid_template_areas": null,
            "grid_template_columns": null,
            "grid_template_rows": null,
            "height": null,
            "justify_content": null,
            "justify_items": null,
            "left": null,
            "margin": null,
            "max_height": null,
            "max_width": null,
            "min_height": null,
            "min_width": null,
            "object_fit": null,
            "object_position": null,
            "order": null,
            "overflow": null,
            "overflow_x": null,
            "overflow_y": null,
            "padding": null,
            "right": null,
            "top": null,
            "visibility": null,
            "width": null
          }
        },
        "218cc1d2e2c84d9caf42f9be3ac311cd": {
          "model_module": "@jupyter-widgets/controls",
          "model_name": "ProgressStyleModel",
          "model_module_version": "1.5.0",
          "state": {
            "_model_module": "@jupyter-widgets/controls",
            "_model_module_version": "1.5.0",
            "_model_name": "ProgressStyleModel",
            "_view_count": null,
            "_view_module": "@jupyter-widgets/base",
            "_view_module_version": "1.2.0",
            "_view_name": "StyleView",
            "bar_color": null,
            "description_width": ""
          }
        },
        "79e4352ecfb24e3a84bf2b8ccd390b41": {
          "model_module": "@jupyter-widgets/base",
          "model_name": "LayoutModel",
          "model_module_version": "1.2.0",
          "state": {
            "_model_module": "@jupyter-widgets/base",
            "_model_module_version": "1.2.0",
            "_model_name": "LayoutModel",
            "_view_count": null,
            "_view_module": "@jupyter-widgets/base",
            "_view_module_version": "1.2.0",
            "_view_name": "LayoutView",
            "align_content": null,
            "align_items": null,
            "align_self": null,
            "border": null,
            "bottom": null,
            "display": null,
            "flex": null,
            "flex_flow": null,
            "grid_area": null,
            "grid_auto_columns": null,
            "grid_auto_flow": null,
            "grid_auto_rows": null,
            "grid_column": null,
            "grid_gap": null,
            "grid_row": null,
            "grid_template_areas": null,
            "grid_template_columns": null,
            "grid_template_rows": null,
            "height": null,
            "justify_content": null,
            "justify_items": null,
            "left": null,
            "margin": null,
            "max_height": null,
            "max_width": null,
            "min_height": null,
            "min_width": null,
            "object_fit": null,
            "object_position": null,
            "order": null,
            "overflow": null,
            "overflow_x": null,
            "overflow_y": null,
            "padding": null,
            "right": null,
            "top": null,
            "visibility": null,
            "width": null
          }
        },
        "f30f45ba3b924c7aa0faf0f7fae032e3": {
          "model_module": "@jupyter-widgets/controls",
          "model_name": "DescriptionStyleModel",
          "model_module_version": "1.5.0",
          "state": {
            "_model_module": "@jupyter-widgets/controls",
            "_model_module_version": "1.5.0",
            "_model_name": "DescriptionStyleModel",
            "_view_count": null,
            "_view_module": "@jupyter-widgets/base",
            "_view_module_version": "1.2.0",
            "_view_name": "StyleView",
            "description_width": ""
          }
        },
        "31eeb3f9edf0441bb33624e2430bd4e3": {
          "model_module": "@jupyter-widgets/controls",
          "model_name": "HBoxModel",
          "model_module_version": "1.5.0",
          "state": {
            "_dom_classes": [],
            "_model_module": "@jupyter-widgets/controls",
            "_model_module_version": "1.5.0",
            "_model_name": "HBoxModel",
            "_view_count": null,
            "_view_module": "@jupyter-widgets/controls",
            "_view_module_version": "1.5.0",
            "_view_name": "HBoxView",
            "box_style": "",
            "children": [
              "IPY_MODEL_fdb7e2c106574ebf876c59197de56342",
              "IPY_MODEL_f036ae475793448ab9156fab9e074ec3",
              "IPY_MODEL_5021626c49514573880af49d6238363b"
            ],
            "layout": "IPY_MODEL_b8cac1a1c97149e19c6ce7bc30d786e6"
          }
        },
        "fdb7e2c106574ebf876c59197de56342": {
          "model_module": "@jupyter-widgets/controls",
          "model_name": "HTMLModel",
          "model_module_version": "1.5.0",
          "state": {
            "_dom_classes": [],
            "_model_module": "@jupyter-widgets/controls",
            "_model_module_version": "1.5.0",
            "_model_name": "HTMLModel",
            "_view_count": null,
            "_view_module": "@jupyter-widgets/controls",
            "_view_module_version": "1.5.0",
            "_view_name": "HTMLView",
            "description": "",
            "description_tooltip": null,
            "layout": "IPY_MODEL_3fc11aba32d347e68b000aa478ffd492",
            "placeholder": "​",
            "style": "IPY_MODEL_d2163fe5e22249deb2d32a905a24db01",
            "value": "Loading checkpoint shards: 100%"
          }
        },
        "f036ae475793448ab9156fab9e074ec3": {
          "model_module": "@jupyter-widgets/controls",
          "model_name": "FloatProgressModel",
          "model_module_version": "1.5.0",
          "state": {
            "_dom_classes": [],
            "_model_module": "@jupyter-widgets/controls",
            "_model_module_version": "1.5.0",
            "_model_name": "FloatProgressModel",
            "_view_count": null,
            "_view_module": "@jupyter-widgets/controls",
            "_view_module_version": "1.5.0",
            "_view_name": "ProgressView",
            "bar_style": "success",
            "description": "",
            "description_tooltip": null,
            "layout": "IPY_MODEL_6de297453209498ebcad7e4b2caee597",
            "max": 2,
            "min": 0,
            "orientation": "horizontal",
            "style": "IPY_MODEL_19662590814c4a7db1c09328e73acea1",
            "value": 2
          }
        },
        "5021626c49514573880af49d6238363b": {
          "model_module": "@jupyter-widgets/controls",
          "model_name": "HTMLModel",
          "model_module_version": "1.5.0",
          "state": {
            "_dom_classes": [],
            "_model_module": "@jupyter-widgets/controls",
            "_model_module_version": "1.5.0",
            "_model_name": "HTMLModel",
            "_view_count": null,
            "_view_module": "@jupyter-widgets/controls",
            "_view_module_version": "1.5.0",
            "_view_name": "HTMLView",
            "description": "",
            "description_tooltip": null,
            "layout": "IPY_MODEL_9f37f204f16a4c61aa69f753c9cbcd76",
            "placeholder": "​",
            "style": "IPY_MODEL_42a43b7f2bff4307b3436353109ff7b0",
            "value": " 2/2 [00:19&lt;00:00,  8.22s/it]"
          }
        },
        "b8cac1a1c97149e19c6ce7bc30d786e6": {
          "model_module": "@jupyter-widgets/base",
          "model_name": "LayoutModel",
          "model_module_version": "1.2.0",
          "state": {
            "_model_module": "@jupyter-widgets/base",
            "_model_module_version": "1.2.0",
            "_model_name": "LayoutModel",
            "_view_count": null,
            "_view_module": "@jupyter-widgets/base",
            "_view_module_version": "1.2.0",
            "_view_name": "LayoutView",
            "align_content": null,
            "align_items": null,
            "align_self": null,
            "border": null,
            "bottom": null,
            "display": null,
            "flex": null,
            "flex_flow": null,
            "grid_area": null,
            "grid_auto_columns": null,
            "grid_auto_flow": null,
            "grid_auto_rows": null,
            "grid_column": null,
            "grid_gap": null,
            "grid_row": null,
            "grid_template_areas": null,
            "grid_template_columns": null,
            "grid_template_rows": null,
            "height": null,
            "justify_content": null,
            "justify_items": null,
            "left": null,
            "margin": null,
            "max_height": null,
            "max_width": null,
            "min_height": null,
            "min_width": null,
            "object_fit": null,
            "object_position": null,
            "order": null,
            "overflow": null,
            "overflow_x": null,
            "overflow_y": null,
            "padding": null,
            "right": null,
            "top": null,
            "visibility": null,
            "width": null
          }
        },
        "3fc11aba32d347e68b000aa478ffd492": {
          "model_module": "@jupyter-widgets/base",
          "model_name": "LayoutModel",
          "model_module_version": "1.2.0",
          "state": {
            "_model_module": "@jupyter-widgets/base",
            "_model_module_version": "1.2.0",
            "_model_name": "LayoutModel",
            "_view_count": null,
            "_view_module": "@jupyter-widgets/base",
            "_view_module_version": "1.2.0",
            "_view_name": "LayoutView",
            "align_content": null,
            "align_items": null,
            "align_self": null,
            "border": null,
            "bottom": null,
            "display": null,
            "flex": null,
            "flex_flow": null,
            "grid_area": null,
            "grid_auto_columns": null,
            "grid_auto_flow": null,
            "grid_auto_rows": null,
            "grid_column": null,
            "grid_gap": null,
            "grid_row": null,
            "grid_template_areas": null,
            "grid_template_columns": null,
            "grid_template_rows": null,
            "height": null,
            "justify_content": null,
            "justify_items": null,
            "left": null,
            "margin": null,
            "max_height": null,
            "max_width": null,
            "min_height": null,
            "min_width": null,
            "object_fit": null,
            "object_position": null,
            "order": null,
            "overflow": null,
            "overflow_x": null,
            "overflow_y": null,
            "padding": null,
            "right": null,
            "top": null,
            "visibility": null,
            "width": null
          }
        },
        "d2163fe5e22249deb2d32a905a24db01": {
          "model_module": "@jupyter-widgets/controls",
          "model_name": "DescriptionStyleModel",
          "model_module_version": "1.5.0",
          "state": {
            "_model_module": "@jupyter-widgets/controls",
            "_model_module_version": "1.5.0",
            "_model_name": "DescriptionStyleModel",
            "_view_count": null,
            "_view_module": "@jupyter-widgets/base",
            "_view_module_version": "1.2.0",
            "_view_name": "StyleView",
            "description_width": ""
          }
        },
        "6de297453209498ebcad7e4b2caee597": {
          "model_module": "@jupyter-widgets/base",
          "model_name": "LayoutModel",
          "model_module_version": "1.2.0",
          "state": {
            "_model_module": "@jupyter-widgets/base",
            "_model_module_version": "1.2.0",
            "_model_name": "LayoutModel",
            "_view_count": null,
            "_view_module": "@jupyter-widgets/base",
            "_view_module_version": "1.2.0",
            "_view_name": "LayoutView",
            "align_content": null,
            "align_items": null,
            "align_self": null,
            "border": null,
            "bottom": null,
            "display": null,
            "flex": null,
            "flex_flow": null,
            "grid_area": null,
            "grid_auto_columns": null,
            "grid_auto_flow": null,
            "grid_auto_rows": null,
            "grid_column": null,
            "grid_gap": null,
            "grid_row": null,
            "grid_template_areas": null,
            "grid_template_columns": null,
            "grid_template_rows": null,
            "height": null,
            "justify_content": null,
            "justify_items": null,
            "left": null,
            "margin": null,
            "max_height": null,
            "max_width": null,
            "min_height": null,
            "min_width": null,
            "object_fit": null,
            "object_position": null,
            "order": null,
            "overflow": null,
            "overflow_x": null,
            "overflow_y": null,
            "padding": null,
            "right": null,
            "top": null,
            "visibility": null,
            "width": null
          }
        },
        "19662590814c4a7db1c09328e73acea1": {
          "model_module": "@jupyter-widgets/controls",
          "model_name": "ProgressStyleModel",
          "model_module_version": "1.5.0",
          "state": {
            "_model_module": "@jupyter-widgets/controls",
            "_model_module_version": "1.5.0",
            "_model_name": "ProgressStyleModel",
            "_view_count": null,
            "_view_module": "@jupyter-widgets/base",
            "_view_module_version": "1.2.0",
            "_view_name": "StyleView",
            "bar_color": null,
            "description_width": ""
          }
        },
        "9f37f204f16a4c61aa69f753c9cbcd76": {
          "model_module": "@jupyter-widgets/base",
          "model_name": "LayoutModel",
          "model_module_version": "1.2.0",
          "state": {
            "_model_module": "@jupyter-widgets/base",
            "_model_module_version": "1.2.0",
            "_model_name": "LayoutModel",
            "_view_count": null,
            "_view_module": "@jupyter-widgets/base",
            "_view_module_version": "1.2.0",
            "_view_name": "LayoutView",
            "align_content": null,
            "align_items": null,
            "align_self": null,
            "border": null,
            "bottom": null,
            "display": null,
            "flex": null,
            "flex_flow": null,
            "grid_area": null,
            "grid_auto_columns": null,
            "grid_auto_flow": null,
            "grid_auto_rows": null,
            "grid_column": null,
            "grid_gap": null,
            "grid_row": null,
            "grid_template_areas": null,
            "grid_template_columns": null,
            "grid_template_rows": null,
            "height": null,
            "justify_content": null,
            "justify_items": null,
            "left": null,
            "margin": null,
            "max_height": null,
            "max_width": null,
            "min_height": null,
            "min_width": null,
            "object_fit": null,
            "object_position": null,
            "order": null,
            "overflow": null,
            "overflow_x": null,
            "overflow_y": null,
            "padding": null,
            "right": null,
            "top": null,
            "visibility": null,
            "width": null
          }
        },
        "42a43b7f2bff4307b3436353109ff7b0": {
          "model_module": "@jupyter-widgets/controls",
          "model_name": "DescriptionStyleModel",
          "model_module_version": "1.5.0",
          "state": {
            "_model_module": "@jupyter-widgets/controls",
            "_model_module_version": "1.5.0",
            "_model_name": "DescriptionStyleModel",
            "_view_count": null,
            "_view_module": "@jupyter-widgets/base",
            "_view_module_version": "1.2.0",
            "_view_name": "StyleView",
            "description_width": ""
          }
        }
      }
    },
    "accelerator": "GPU"
  },
  "nbformat": 4,
  "nbformat_minor": 0
}